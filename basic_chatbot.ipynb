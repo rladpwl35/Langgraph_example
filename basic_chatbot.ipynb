{
 "cells": [
  {
   "cell_type": "code",
   "execution_count": 1,
   "id": "2e429e1b",
   "metadata": {},
   "outputs": [],
   "source": [
    "import getpass, os\n",
    "\n",
    "def _set_env(var: str):\n",
    "    if not os.environ.get(var):\n",
    "        os.environ[var] = getpass.getpass(f\"Enter {var}: \")\n",
    "\n",
    "_set_env(\"OPENAI_API_KEY\")"
   ]
  },
  {
   "cell_type": "code",
   "execution_count": 15,
   "id": "410a5c24",
   "metadata": {},
   "outputs": [],
   "source": [
    "from typing import Annotated\n",
    "\n",
    "from typing_extensions import TypedDict\n",
    "\n",
    "from langgraph.graph import StateGraph, START, END\n",
    "from langgraph.graph.message import add_messages\n",
    "\n",
    "class State(TypedDict):\n",
    "    messages: Annotated[list, add_messages]\n",
    "\n",
    "graph_builder = StateGraph(State)"
   ]
  },
  {
   "cell_type": "code",
   "execution_count": 16,
   "id": "d5acbc13",
   "metadata": {},
   "outputs": [
    {
     "data": {
      "text/plain": [
       "<langgraph.graph.state.StateGraph at 0x116ed7670>"
      ]
     },
     "execution_count": 16,
     "metadata": {},
     "output_type": "execute_result"
    }
   ],
   "source": [
    "from langchain_openai import ChatOpenAI\n",
    "\n",
    "llm = ChatOpenAI(model=\"gpt-4o-mini\", temperature=0)\n",
    "\n",
    "def chatbot(state: State) -> dict:\n",
    "    return {\"messages\": llm.invoke(state[\"messages\"])}\n",
    "\n",
    "graph_builder.add_node(\"chatbot\", chatbot)"
   ]
  },
  {
   "cell_type": "code",
   "execution_count": null,
   "id": "b6d7b693",
   "metadata": {},
   "outputs": [],
   "source": [
    "graph_builder.add_edge(START, \"chatbot\")\n",
    "graph_builder.add_edge(\"chatbot\", END)\n",
    "\n",
    "graph = graph_builder.compile()"
   ]
  },
  {
   "cell_type": "code",
   "execution_count": null,
   "id": "b136b412",
   "metadata": {},
   "outputs": [],
   "source": [
    "from IPython.display import Image, display\n",
    "\n",
    "display(Image(graph.get_graph().draw_mermaid_png()))"
   ]
  },
  {
   "cell_type": "code",
   "execution_count": 32,
   "id": "bf1c08ac",
   "metadata": {},
   "outputs": [
    {
     "name": "stdout",
     "output_type": "stream",
     "text": [
      "Assistant:  안녕하세요! 오늘은 2023년 10월 4일 수요일입니다. 도움이 필요하시면 언제든지 말씀해 주세요!\n"
     ]
    }
   ],
   "source": [
    "def stream_graph_updates(user_input: str):\n",
    "    for event in graph.stream({\"messages\": [{\"role\": \"user\", \"content\": user_input }]}):\n",
    "        for value in event.values():\n",
    "            print(\"Assistant: \", value[\"messages\"].content)\n",
    "\n",
    "stream_graph_updates(\"안녕 오늘은 무슨 요일이야?\")\n"
   ]
  },
  {
   "cell_type": "code",
   "execution_count": 34,
   "id": "2c16aaa0",
   "metadata": {},
   "outputs": [
    {
     "name": "stdout",
     "output_type": "stream",
     "text": [
      "User:  랭체인이 뭐야\n",
      "Assistant:  랭체인(Chain of Thought, CoT)은 주로 인공지능과 자연어 처리 분야에서 사용되는 개념으로, 문제 해결이나 질문에 대한 답변을 도출하는 과정에서의 사고 과정을 나타냅니다. 이 접근법은 모델이 단순히 정답을 제시하는 것이 아니라, 그 과정에서의 논리적 추론이나 단계별 사고를 보여줌으로써 더 정확하고 신뢰할 수 있는 결과를 도출할 수 있도록 돕습니다.\n",
      "\n",
      "랭체인은 특히 복잡한 문제를 해결할 때 유용하며, 모델이 중간 단계를 명시적으로 표현함으로써 사용자가 결과를 이해하고 검증할 수 있는 기회를 제공합니다. 이러한 방식은 AI 모델의 투명성을 높이고, 결과의 신뢰성을 향상시키는 데 기여할 수 있습니다. \n",
      "\n",
      "랭체인은 다양한 AI 응용 프로그램에서 활용될 수 있으며, 특히 대화형 AI, 문제 해결 시스템, 교육용 도구 등에서 그 효과를 발휘합니다.\n",
      "User:  bia의 원리에 대해서 알려줄래\n",
      "Assistant:  BIA(Bioelectrical Impedance Analysis)는 생체 전기 임피던스 분석의 약자로, 신체의 조성을 평가하는 방법 중 하나입니다. 이 원리는 신체에 미세한 전류를 흘려보내고, 그 전류가 신체를 통과할 때의 저항(임피던스)을 측정하는 것입니다. BIA의 기본 원리는 다음과 같습니다:\n",
      "\n",
      "1. **전기 전도성**: 인체는 수분, 지방, 근육 등 다양한 성분으로 이루어져 있으며, 이들 성분은 전기 전도성이 다릅니다. 예를 들어, 근육은 수분 함량이 높아 전기가 잘 통과하지만, 지방은 전기가 잘 통하지 않습니다.\n",
      "\n",
      "2. **전류의 흐름**: BIA 장비는 신체에 저전압의 전류를 흘려보내고, 이 전류가 신체를 통과할 때의 저항을 측정합니다. 이 저항 값은 신체의 수분 함량, 지방량, 근육량 등을 추정하는 데 사용됩니다.\n",
      "\n",
      "3. **데이터 해석**: 측정된 임피던스 값은 알고리즘을 통해 해석되어, 체지방률, 근육량, 체수분량 등의 정보를 제공합니다. 이를 통해 개인의 신체 조성을 평가하고, 건강 상태를 모니터링할 수 있습니다.\n",
      "\n",
      "BIA는 비침습적이고 빠르며, 상대적으로 저렴한 방법으로 신체 조성을 측정할 수 있는 장점이 있습니다. 그러나 수분 상태, 식사, 운동 등 여러 요인에 따라 결과가 영향을 받을 수 있으므로, 측정 시 주의가 필요합니다.\n",
      "User:  let me know the company the sale bia device \n",
      "Assistant:  BIA (Bioelectrical Impedance Analysis) devices are commonly used for body composition analysis, including measuring body fat percentage, muscle mass, and hydration levels. Several companies manufacture and sell BIA devices, including:\n",
      "\n",
      "1. **Tanita** - Known for a range of body composition monitors and scales.\n",
      "2. **Omron** - Offers various health monitoring devices, including BIA scales.\n",
      "3. **InBody** - Specializes in advanced body composition analyzers used in clinical and fitness settings.\n",
      "4. **Withings** - Provides smart scales that include body composition analysis features.\n",
      "5. **Fitbit** - While primarily known for fitness trackers, some of their smart scales also include BIA technology.\n",
      "6. **BodyTrace** - Offers body composition scales that utilize BIA technology.\n",
      "\n",
      "If you're looking for a specific type of BIA device or have a particular application in mind, please provide more details!\n",
      "User:  tanita, omron, withings, inbody. which company is the most famous\n",
      "Assistant:  Among the companies you mentioned—Tanita, Omron, Withings, and InBody—**Omron** is often considered the most famous, particularly in the context of health monitoring devices like blood pressure monitors and body composition scales. Omron has a long-standing reputation and a wide range of health-related products.\n",
      "\n",
      "**Withings** is also well-known, especially for its smart health devices that integrate with mobile apps, but it is generally more recognized in the fitness and wellness community.\n",
      "\n",
      "**Tanita** is known for its body composition monitors and scales, particularly in professional and clinical settings, while **InBody** specializes in body composition analysis and is popular in fitness and medical environments.\n",
      "\n",
      "Overall, while all these brands have their strengths and specific markets, Omron tends to have the broadest recognition among consumers.\n",
      "User:  inbody, tanita, omron, withings. which company is the most famous\n",
      "Assistant:  Among InBody, Tanita, Omron, and Withings, **Omron** and **Withings** are generally considered the most well-known brands, particularly in the consumer health and fitness markets. \n",
      "\n",
      "- **Omron** is widely recognized for its blood pressure monitors and other health devices, and it has a strong presence in both consumer and professional healthcare markets.\n",
      "- **Withings** is known for its smart health devices, including smart scales and fitness trackers, and has gained popularity for its integration with health apps and user-friendly design.\n",
      "\n",
      "**Tanita** and **InBody** are also reputable brands, particularly in the body composition analysis space, but they may not have the same level of brand recognition among general consumers as Omron and Withings. \n",
      "\n",
      "Overall, the \"most famous\" can vary based on the specific market segment and region, but Omron and Withings tend to have broader recognition.\n",
      "User:  q\n",
      "goodbye!\n"
     ]
    }
   ],
   "source": [
    "while True:\n",
    "    user_input = input(\"You: \")\n",
    "    print(\"User: \", user_input)\n",
    "    if user_input.lower() in [\"quit\", \"exit\", \"q\"]:\n",
    "        print(\"goodbye!\")\n",
    "        break\n",
    "    stream_graph_updates(user_input)"
   ]
  }
 ],
 "metadata": {
  "kernelspec": {
   "display_name": "Agent-study",
   "language": "python",
   "name": "python3"
  },
  "language_info": {
   "codemirror_mode": {
    "name": "ipython",
    "version": 3
   },
   "file_extension": ".py",
   "mimetype": "text/x-python",
   "name": "python",
   "nbconvert_exporter": "python",
   "pygments_lexer": "ipython3",
   "version": "3.10.18"
  }
 },
 "nbformat": 4,
 "nbformat_minor": 5
}
