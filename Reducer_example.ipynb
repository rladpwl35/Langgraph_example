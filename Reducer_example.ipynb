{
 "cells": [
  {
   "cell_type": "markdown",
   "id": "af985aaf",
   "metadata": {},
   "source": [
    "# LangGraph Reducer 사용 예제\n",
    "\n",
    "## LangGraph Reducer?\n",
    "리듀서는 LangGraph에서 상태 업데이트 로직을 정의하는 핵심 메커니즘입니다. 각 노드가 반환하는 업데이트를 기존 상태에 어떻게 적용할지 결정하는 함수입니다.\n",
    "\n",
    "## 왜 리듀서가 필요한가?\n",
    "\n",
    "- 여러 노드가 동시에 또는 순차적으로 실행될 때, 각 노드의 출력을 상태에 통합하는 방법이 필요합니다. (**주의 사항으로 노드 병렬 실행시 리듀서를 적절히 사용하지 않으면 에러**)\n",
    "- 리듀서를 통해 누적, 병합, 최대값 유지 등 다양한 업데이트 전략을 구현할 수 있습니다.\n",
    "\n",
    "* 출처 https://wikidocs.net/265766"
   ]
  },
  {
   "cell_type": "code",
   "execution_count": 2,
   "id": "187a254b",
   "metadata": {},
   "outputs": [],
   "source": [
    "# 랭그래프 state 정의\n",
    "\n",
    "from langchain_core.messages import AnyMessage\n",
    "from typing_extensions import TypedDict\n",
    "\n",
    "class State(TypedDict):\n",
    "    messages: list[AnyMessage]\n",
    "    extra_field: int\n"
   ]
  },
  {
   "cell_type": "code",
   "execution_count": 6,
   "id": "083d2185",
   "metadata": {},
   "outputs": [
    {
     "name": "stdout",
     "output_type": "stream",
     "text": [
      "/Users/User/anaconda3/envs/Agent-study/bin/python\n",
      "/Users/User/anaconda3/envs/Agent-study/lib/python3.10/site-packages/langchain_core\n"
     ]
    }
   ],
   "source": [
    "import sys, os, langchain_core\n",
    "print(sys.executable)                           # 현재 커널 파이썬\n",
    "print(os.path.dirname(langchain_core.__file__))"
   ]
  }
 ],
 "metadata": {
  "kernelspec": {
   "display_name": "Agent-study",
   "language": "python",
   "name": "python3"
  },
  "language_info": {
   "codemirror_mode": {
    "name": "ipython",
    "version": 3
   },
   "file_extension": ".py",
   "mimetype": "text/x-python",
   "name": "python",
   "nbconvert_exporter": "python",
   "pygments_lexer": "ipython3",
   "version": "3.10.18"
  }
 },
 "nbformat": 4,
 "nbformat_minor": 5
}
