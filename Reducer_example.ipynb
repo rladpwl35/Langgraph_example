{
 "cells": [
  {
   "cell_type": "markdown",
   "id": "af985aaf",
   "metadata": {},
   "source": [
    "# LangGraph Reducer 사용 예제\n",
    "\n",
    "## LangGraph Reducer?\n",
    "리듀서는 LangGraph에서 상태 업데이트 로직을 정의하는 핵심 메커니즘입니다. 각 노드가 반환하는 업데이트를 기존 상태에 어떻게 적용할지 결정하는 함수입니다.\n",
    "\n",
    "## 왜 리듀서가 필요한가?\n",
    "\n",
    "- 여러 노드가 동시에 또는 순차적으로 실행될 때, 각 노드의 출력을 상태에 통합하는 방법이 필요합니다. (**주의 사항으로 노드 병렬 실행시 리듀서를 적절히 사용하지 않으면 에러**)\n",
    "- 리듀서를 통해 누적, 병합, 최대값 유지 등 다양한 업데이트 전략을 구현할 수 있습니다.\n",
    "\n",
    "* 출처 https://wikidocs.net/265766"
   ]
  },
  {
   "cell_type": "code",
   "execution_count": 2,
   "id": "187a254b",
   "metadata": {},
   "outputs": [],
   "source": [
    "# 랭그래프 state 정의\n",
    "\n",
    "from langchain_core.messages import AnyMessage\n",
    "from typing_extensions import TypedDict\n",
    "\n",
    "class State(TypedDict):\n",
    "    messages: list[AnyMessage]\n",
    "    extra_field: int\n"
   ]
  },
  {
   "cell_type": "code",
   "execution_count": 6,
   "id": "083d2185",
   "metadata": {},
   "outputs": [
    {
     "name": "stdout",
     "output_type": "stream",
     "text": [
      "/Users/User/anaconda3/envs/Agent-study/bin/python\n",
      "/Users/User/anaconda3/envs/Agent-study/lib/python3.10/site-packages/langchain_core\n"
     ]
    }
   ],
   "source": [
    "import sys, os, langchain_core\n",
    "print(sys.executable)                           # 현재 커널 파이썬\n",
    "print(os.path.dirname(langchain_core.__file__))"
   ]
  },
  {
   "cell_type": "code",
   "execution_count": 7,
   "id": "1f110895",
   "metadata": {},
   "outputs": [
    {
     "name": "stdout",
     "output_type": "stream",
     "text": [
      "0.3.79\n"
     ]
    }
   ],
   "source": [
    "import langchain_core\n",
    "print(getattr(langchain_core, \"__version__\", \"no __version__\"))\n"
   ]
  },
  {
   "cell_type": "code",
   "execution_count": 8,
   "id": "e035de67",
   "metadata": {},
   "outputs": [
    {
     "name": "stdout",
     "output_type": "stream",
     "text": [
      "Requirement already satisfied: langchain-core in /Users/User/anaconda3/envs/Agent-study/lib/python3.10/site-packages (0.3.79)\n",
      "Requirement already satisfied: langsmith<1.0.0,>=0.3.45 in /Users/User/anaconda3/envs/Agent-study/lib/python3.10/site-packages (from langchain-core) (0.4.34)\n",
      "Requirement already satisfied: tenacity!=8.4.0,<10.0.0,>=8.1.0 in /Users/User/anaconda3/envs/Agent-study/lib/python3.10/site-packages (from langchain-core) (9.1.2)\n",
      "Requirement already satisfied: jsonpatch<2.0.0,>=1.33.0 in /Users/User/anaconda3/envs/Agent-study/lib/python3.10/site-packages (from langchain-core) (1.33)\n",
      "Requirement already satisfied: PyYAML<7.0.0,>=5.3.0 in /Users/User/anaconda3/envs/Agent-study/lib/python3.10/site-packages (from langchain-core) (6.0.3)\n",
      "Requirement already satisfied: typing-extensions<5.0.0,>=4.7.0 in /Users/User/anaconda3/envs/Agent-study/lib/python3.10/site-packages (from langchain-core) (4.15.0)\n",
      "Requirement already satisfied: packaging<26.0.0,>=23.2.0 in /Users/User/anaconda3/envs/Agent-study/lib/python3.10/site-packages (from langchain-core) (25.0)\n",
      "Requirement already satisfied: pydantic<3.0.0,>=2.7.4 in /Users/User/anaconda3/envs/Agent-study/lib/python3.10/site-packages (from langchain-core) (2.12.1)\n",
      "Requirement already satisfied: jsonpointer>=1.9 in /Users/User/anaconda3/envs/Agent-study/lib/python3.10/site-packages (from jsonpatch<2.0.0,>=1.33.0->langchain-core) (3.0.0)\n",
      "Requirement already satisfied: httpx<1,>=0.23.0 in /Users/User/anaconda3/envs/Agent-study/lib/python3.10/site-packages (from langsmith<1.0.0,>=0.3.45->langchain-core) (0.28.1)\n",
      "Requirement already satisfied: orjson>=3.9.14 in /Users/User/anaconda3/envs/Agent-study/lib/python3.10/site-packages (from langsmith<1.0.0,>=0.3.45->langchain-core) (3.11.3)\n",
      "Requirement already satisfied: requests-toolbelt>=1.0.0 in /Users/User/anaconda3/envs/Agent-study/lib/python3.10/site-packages (from langsmith<1.0.0,>=0.3.45->langchain-core) (1.0.0)\n",
      "Requirement already satisfied: requests>=2.0.0 in /Users/User/anaconda3/envs/Agent-study/lib/python3.10/site-packages (from langsmith<1.0.0,>=0.3.45->langchain-core) (2.32.5)\n",
      "Requirement already satisfied: zstandard>=0.23.0 in /Users/User/anaconda3/envs/Agent-study/lib/python3.10/site-packages (from langsmith<1.0.0,>=0.3.45->langchain-core) (0.25.0)\n",
      "Requirement already satisfied: anyio in /Users/User/anaconda3/envs/Agent-study/lib/python3.10/site-packages (from httpx<1,>=0.23.0->langsmith<1.0.0,>=0.3.45->langchain-core) (4.11.0)\n",
      "Requirement already satisfied: certifi in /Users/User/anaconda3/envs/Agent-study/lib/python3.10/site-packages (from httpx<1,>=0.23.0->langsmith<1.0.0,>=0.3.45->langchain-core) (2025.10.5)\n",
      "Requirement already satisfied: httpcore==1.* in /Users/User/anaconda3/envs/Agent-study/lib/python3.10/site-packages (from httpx<1,>=0.23.0->langsmith<1.0.0,>=0.3.45->langchain-core) (1.0.9)\n",
      "Requirement already satisfied: idna in /Users/User/anaconda3/envs/Agent-study/lib/python3.10/site-packages (from httpx<1,>=0.23.0->langsmith<1.0.0,>=0.3.45->langchain-core) (3.11)\n",
      "Requirement already satisfied: h11>=0.16 in /Users/User/anaconda3/envs/Agent-study/lib/python3.10/site-packages (from httpcore==1.*->httpx<1,>=0.23.0->langsmith<1.0.0,>=0.3.45->langchain-core) (0.16.0)\n",
      "Requirement already satisfied: annotated-types>=0.6.0 in /Users/User/anaconda3/envs/Agent-study/lib/python3.10/site-packages (from pydantic<3.0.0,>=2.7.4->langchain-core) (0.7.0)\n",
      "Requirement already satisfied: pydantic-core==2.41.3 in /Users/User/anaconda3/envs/Agent-study/lib/python3.10/site-packages (from pydantic<3.0.0,>=2.7.4->langchain-core) (2.41.3)\n",
      "Requirement already satisfied: typing-inspection>=0.4.2 in /Users/User/anaconda3/envs/Agent-study/lib/python3.10/site-packages (from pydantic<3.0.0,>=2.7.4->langchain-core) (0.4.2)\n",
      "Requirement already satisfied: charset_normalizer<4,>=2 in /Users/User/anaconda3/envs/Agent-study/lib/python3.10/site-packages (from requests>=2.0.0->langsmith<1.0.0,>=0.3.45->langchain-core) (3.4.4)\n",
      "Requirement already satisfied: urllib3<3,>=1.21.1 in /Users/User/anaconda3/envs/Agent-study/lib/python3.10/site-packages (from requests>=2.0.0->langsmith<1.0.0,>=0.3.45->langchain-core) (2.5.0)\n",
      "Requirement already satisfied: exceptiongroup>=1.0.2 in /Users/User/anaconda3/envs/Agent-study/lib/python3.10/site-packages (from anyio->httpx<1,>=0.23.0->langsmith<1.0.0,>=0.3.45->langchain-core) (1.3.0)\n",
      "Requirement already satisfied: sniffio>=1.1 in /Users/User/anaconda3/envs/Agent-study/lib/python3.10/site-packages (from anyio->httpx<1,>=0.23.0->langsmith<1.0.0,>=0.3.45->langchain-core) (1.3.1)\n"
     ]
    },
    {
     "data": {
      "text/plain": [
       "0"
      ]
     },
     "execution_count": 8,
     "metadata": {},
     "output_type": "execute_result"
    }
   ],
   "source": [
    "import sys, subprocess\n",
    "subprocess.check_call([sys.executable, \"-m\", \"pip\", \"install\", \"langchain-core\"])"
   ]
  }
 ],
 "metadata": {
  "kernelspec": {
   "display_name": "Agent-study",
   "language": "python",
   "name": "python3"
  },
  "language_info": {
   "codemirror_mode": {
    "name": "ipython",
    "version": 3
   },
   "file_extension": ".py",
   "mimetype": "text/x-python",
   "name": "python",
   "nbconvert_exporter": "python",
   "pygments_lexer": "ipython3",
   "version": "3.10.18"
  }
 },
 "nbformat": 4,
 "nbformat_minor": 5
}
