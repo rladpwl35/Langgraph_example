{
 "cells": [
  {
   "cell_type": "code",
   "execution_count": null,
   "id": "2e429e1b",
   "metadata": {},
   "outputs": [],
   "source": [
    "import getpass, os\n",
    "\n",
    "def _set_env(var: str):\n",
    "    # if not os.environ.get(var):\n",
    "    os.environ[var] = getpass.getpass(f\"Enter {var}: \")\n",
    "\n",
    "_set_env(\"OPENAI_API_KEY\")"
   ]
  },
  {
   "cell_type": "code",
   "execution_count": 10,
   "id": "410a5c24",
   "metadata": {},
   "outputs": [],
   "source": [
    "from typing import Annotated\n",
    "\n",
    "from typing_extensions import TypedDict\n",
    "\n",
    "from langgraph.graph import StateGraph, START, END\n",
    "from langgraph.graph.message import add_messages\n",
    "\n",
    "class State(TypedDict):\n",
    "    messages: Annotated[list, add_messages]\n",
    "\n",
    "graph_builder = StateGraph(State)"
   ]
  },
  {
   "cell_type": "code",
   "execution_count": 11,
   "id": "d5acbc13",
   "metadata": {},
   "outputs": [
    {
     "data": {
      "text/plain": [
       "<langgraph.graph.state.StateGraph at 0x1173f6b30>"
      ]
     },
     "execution_count": 11,
     "metadata": {},
     "output_type": "execute_result"
    }
   ],
   "source": [
    "from langchain_openai import ChatOpenAI\n",
    "\n",
    "llm = ChatOpenAI(model=\"gpt-4o-mini\", temperature=0)\n",
    "\n",
    "def chatbot(state: State) -> dict:\n",
    "    return {\"messages\": llm.invoke(state[\"messages\"])}\n",
    "\n",
    "graph_builder.add_node(\"chatbot\", chatbot)"
   ]
  },
  {
   "cell_type": "code",
   "execution_count": 12,
   "id": "b6d7b693",
   "metadata": {},
   "outputs": [],
   "source": [
    "graph_builder.add_edge(START, \"chatbot\")\n",
    "graph_builder.add_edge(\"chatbot\", END)\n",
    "\n",
    "graph = graph_builder.compile()"
   ]
  },
  {
   "cell_type": "code",
   "execution_count": 5,
   "id": "b136b412",
   "metadata": {},
   "outputs": [
    {
     "data": {
      "image/png": "[encoded data removed]",
      "text/plain": [
       "<IPython.core.display.Image object>"
      ]
     },
     "metadata": {},
     "output_type": "display_data"
    }
   ],
   "source": [
    "from IPython.display import Image, display\n",
    "\n",
    "display(Image(graph.get_graph().draw_mermaid_png()))"
   ]
  },
  {
   "cell_type": "code",
   "execution_count": 13,
   "id": "bf1c08ac",
   "metadata": {},
   "outputs": [
    {
     "name": "stdout",
     "output_type": "stream",
     "text": [
      "Assistant:  안녕하세요! 오늘은 2023년 10월 4일 수요일입니다. 도움이 필요하시면 언제든지 말씀해 주세요!\n"
     ]
    }
   ],
   "source": [
    "def stream_graph_updates(user_input: str):\n",
    "    for event in graph.stream({\"messages\": [{\"role\": \"user\", \"content\": user_input }]}):\n",
    "        for value in event.values():\n",
    "            print(\"Assistant: \", value[\"messages\"].content)\n",
    "\n",
    "stream_graph_updates(\"안녕 오늘은 무슨 요일이야?\")\n"
   ]
  },
  {
   "cell_type": "code",
   "execution_count": 14,
   "id": "2c16aaa0",
   "metadata": {},
   "outputs": [
    {
     "name": "stdout",
     "output_type": "stream",
     "text": [
      "User:  안녕\n",
      "Assistant:  안녕하세요! 어떻게 도와드릴까요?\n",
      "User:  너 뭐할수 있어\n",
      "Assistant:  저는 다양한 질문에 답변하고, 정보 제공, 글쓰기, 번역, 아이디어 제안, 문제 해결 등 여러 가지 작업을 도와드릴 수 있습니다. 궁금한 점이나 필요한 것이 있다면 말씀해 주세요!\n",
      "User:  나각자\n",
      "Assistant:  \"나각자\"는 \"각자\"라는 의미로, 각 개인이 자신만의 방식이나 입장에서 어떤 일을 한다는 뜻입니다. 더 구체적인 질문이나 설명이 필요하시면 말씀해 주세요!\n",
      "User:  중지해줘\n",
      "Assistant:  무엇을 중지해드릴까요? 더 구체적으로 말씀해 주시면 도와드리겠습니다.\n",
      "User:  ㅂ\n",
      "Assistant:  안녕하세요! 무엇을 도와드릴까요?\n",
      "User:  q\n",
      "goodbye!\n"
     ]
    }
   ],
   "source": [
    "while True:\n",
    "    user_input = input(\"You: \")\n",
    "    print(\"User: \", user_input)\n",
    "    if user_input.lower() in [\"quit\", \"exit\", \"q\"]:\n",
    "        print(\"goodbye!\")\n",
    "        break\n",
    "    stream_graph_updates(user_input)"
   ]
  },
  {
   "cell_type": "markdown",
   "id": "c1f29482",
   "metadata": {},
   "source": [
    "# 챗봇 메모리 추가하기 (Multi-turn) "
   ]
  },
  {
   "cell_type": "code",
   "execution_count": 29,
   "id": "50a0cb1f",
   "metadata": {},
   "outputs": [],
   "source": [
    "from langgraph.checkpoint.memory import MemorySaver\n",
    "\n",
    "memory = MemorySaver()\n"
   ]
  },
  {
   "cell_type": "code",
   "execution_count": 30,
   "id": "17b4c494",
   "metadata": {},
   "outputs": [],
   "source": [
    "graph = graph_builder.compile(checkpointer=memory)\n",
    "\n"
   ]
  },
  {
   "cell_type": "code",
   "execution_count": 31,
   "id": "18e0090a",
   "metadata": {},
   "outputs": [],
   "source": [
    "# 대화 메모리를 thread_id 별로 저장 가능\n",
    "config = {\"configurable\": {\"thread_id\": \"1\"}}\n"
   ]
  },
  {
   "cell_type": "code",
   "execution_count": null,
   "id": "8d357ab8",
   "metadata": {},
   "outputs": [
    {
     "name": "stdout",
     "output_type": "stream",
     "text": [
      "Assistant:  안녕하세요! 오늘은 2023년 10월 4일 수요일입니다. 도움이 필요하시면 언제든지 말씀해 주세요!\n"
     ]
    }
   ],
   "source": [
    "def stream_graph_updates(user_input: str):\n",
    "    for event in graph.stream({\"messages\": [{\"role\": \"user\", \"content\":user_input}]}, config=config):\n",
    "        for value in event.values():\n",
    "            print(\"Assistant: \", value[\"messages\"].content)\n",
    "\n",
    "\n"
   ]
  },
  {
   "cell_type": "code",
   "execution_count": 33,
   "id": "c24069ef",
   "metadata": {},
   "outputs": [
    {
     "name": "stdout",
     "output_type": "stream",
     "text": [
      "User:  안녕 내이름은 예지야\n",
      "Assistant:  안녕하세요, 예지님! 만나서 반가워요. 어떤 이야기를 나누고 싶으신가요?\n",
      "User:  ㅂ\n",
      "Assistant:  무언가 궁금한 점이나 이야기하고 싶은 것이 있으면 말씀해 주세요! 도와드릴 준비가 되어 있습니다.\n",
      "User:  q\n",
      "goodbye!\n"
     ]
    },
    {
     "data": {
      "text/plain": [
       "StateSnapshot(values={'messages': [HumanMessage(content='안녕 오늘은 무슨 요일이야?', additional_kwargs={}, response_metadata={}, id='eefe47e3-8879-40f7-927f-05dada6d5d16'), AIMessage(content='안녕하세요! 오늘은 2023년 10월 4일 수요일입니다. 도움이 필요하시면 언제든지 말씀해 주세요!', additional_kwargs={'refusal': None}, response_metadata={'token_usage': {'completion_tokens': 30, 'prompt_tokens': 18, 'total_tokens': 48, 'completion_tokens_details': {'accepted_prediction_tokens': 0, 'audio_tokens': 0, 'reasoning_tokens': 0, 'rejected_prediction_tokens': 0}, 'prompt_tokens_details': {'audio_tokens': 0, 'cached_tokens': 0}}, 'model_name': 'gpt-4o-mini-2024-07-18', 'system_fingerprint': 'fp_560af6e559', 'id': 'chatcmpl-CRzC8TtUoOqFc4NteFFz5Q695qf2k', 'service_tier': 'default', 'finish_reason': 'stop', 'logprobs': None}, id='run--c1e5e949-ddc5-4d35-84dc-4b3fd46b6a15-0', usage_metadata={'input_tokens': 18, 'output_tokens': 30, 'total_tokens': 48, 'input_token_details': {'audio': 0, 'cache_read': 0}, 'output_token_details': {'audio': 0, 'reasoning': 0}}), HumanMessage(content='안녕 내이름은 예지야', additional_kwargs={}, response_metadata={}, id='3b8aaf0a-42f7-4309-b737-b197bb51643e'), AIMessage(content='안녕하세요, 예지님! 만나서 반가워요. 어떤 이야기를 나누고 싶으신가요?', additional_kwargs={'refusal': None}, response_metadata={'token_usage': {'completion_tokens': 26, 'prompt_tokens': 65, 'total_tokens': 91, 'completion_tokens_details': {'accepted_prediction_tokens': 0, 'audio_tokens': 0, 'reasoning_tokens': 0, 'rejected_prediction_tokens': 0}, 'prompt_tokens_details': {'audio_tokens': 0, 'cached_tokens': 0}}, 'model_name': 'gpt-4o-mini-2024-07-18', 'system_fingerprint': 'fp_51db84afab', 'id': 'chatcmpl-CRzCJaIYHwpMypPEYIZbDUvzATrK5', 'service_tier': 'default', 'finish_reason': 'stop', 'logprobs': None}, id='run--01389fe4-cb42-479f-bc7a-3ab381ab0b74-0', usage_metadata={'input_tokens': 65, 'output_tokens': 26, 'total_tokens': 91, 'input_token_details': {'audio': 0, 'cache_read': 0}, 'output_token_details': {'audio': 0, 'reasoning': 0}}), HumanMessage(content='ㅂ', additional_kwargs={}, response_metadata={}, id='9c47098c-aae1-4fdb-b5f3-ecbc39aa9122'), AIMessage(content='무언가 궁금한 점이나 이야기하고 싶은 것이 있으면 말씀해 주세요! 도와드릴 준비가 되어 있습니다.', additional_kwargs={'refusal': None}, response_metadata={'token_usage': {'completion_tokens': 27, 'prompt_tokens': 101, 'total_tokens': 128, 'completion_tokens_details': {'accepted_prediction_tokens': 0, 'audio_tokens': 0, 'reasoning_tokens': 0, 'rejected_prediction_tokens': 0}, 'prompt_tokens_details': {'audio_tokens': 0, 'cached_tokens': 0}}, 'model_name': 'gpt-4o-mini-2024-07-18', 'system_fingerprint': 'fp_560af6e559', 'id': 'chatcmpl-CRzCMKDqaoeiKFnixD2IdvOOKx92x', 'service_tier': 'default', 'finish_reason': 'stop', 'logprobs': None}, id='run--dbce532a-fac3-4e04-99c3-a72cd25cafef-0', usage_metadata={'input_tokens': 101, 'output_tokens': 27, 'total_tokens': 128, 'input_token_details': {'audio': 0, 'cache_read': 0}, 'output_token_details': {'audio': 0, 'reasoning': 0}})]}, next=(), config={'configurable': {'thread_id': '1', 'checkpoint_ns': '', 'checkpoint_id': '1f0ac13c-6ee4-60bc-8007-5596576d11be'}}, metadata={'source': 'loop', 'step': 7, 'parents': {}}, created_at='2025-10-18T11:15:39.034424+00:00', parent_config={'configurable': {'thread_id': '1', 'checkpoint_ns': '', 'checkpoint_id': '1f0ac13c-665e-6758-8006-47a4a35898be'}}, tasks=(), interrupts=())"
      ]
     },
     "execution_count": 33,
     "metadata": {},
     "output_type": "execute_result"
    }
   ],
   "source": [
    "while True:\n",
    "    user_input = input(\"You: \")\n",
    "    print(\"User: \", user_input)\n",
    "    if user_input.lower() in [\"quit\", \"exit\", \"q\"]:\n",
    "        print(\"goodbye!\")\n",
    "        break\n",
    "    \n",
    "    stream_graph_updates(user_input)\n",
    "\n",
    "graph.get_state(config)"
   ]
  },
  {
   "cell_type": "code",
   "execution_count": 34,
   "id": "4a560ad2",
   "metadata": {},
   "outputs": [
    {
     "data": {
      "text/plain": [
       "StateSnapshot(values={'messages': [HumanMessage(content='안녕 오늘은 무슨 요일이야?', additional_kwargs={}, response_metadata={}, id='eefe47e3-8879-40f7-927f-05dada6d5d16'), AIMessage(content='안녕하세요! 오늘은 2023년 10월 4일 수요일입니다. 도움이 필요하시면 언제든지 말씀해 주세요!', additional_kwargs={'refusal': None}, response_metadata={'token_usage': {'completion_tokens': 30, 'prompt_tokens': 18, 'total_tokens': 48, 'completion_tokens_details': {'accepted_prediction_tokens': 0, 'audio_tokens': 0, 'reasoning_tokens': 0, 'rejected_prediction_tokens': 0}, 'prompt_tokens_details': {'audio_tokens': 0, 'cached_tokens': 0}}, 'model_name': 'gpt-4o-mini-2024-07-18', 'system_fingerprint': 'fp_560af6e559', 'id': 'chatcmpl-CRzC8TtUoOqFc4NteFFz5Q695qf2k', 'service_tier': 'default', 'finish_reason': 'stop', 'logprobs': None}, id='run--c1e5e949-ddc5-4d35-84dc-4b3fd46b6a15-0', usage_metadata={'input_tokens': 18, 'output_tokens': 30, 'total_tokens': 48, 'input_token_details': {'audio': 0, 'cache_read': 0}, 'output_token_details': {'audio': 0, 'reasoning': 0}}), HumanMessage(content='안녕 내이름은 예지야', additional_kwargs={}, response_metadata={}, id='3b8aaf0a-42f7-4309-b737-b197bb51643e'), AIMessage(content='안녕하세요, 예지님! 만나서 반가워요. 어떤 이야기를 나누고 싶으신가요?', additional_kwargs={'refusal': None}, response_metadata={'token_usage': {'completion_tokens': 26, 'prompt_tokens': 65, 'total_tokens': 91, 'completion_tokens_details': {'accepted_prediction_tokens': 0, 'audio_tokens': 0, 'reasoning_tokens': 0, 'rejected_prediction_tokens': 0}, 'prompt_tokens_details': {'audio_tokens': 0, 'cached_tokens': 0}}, 'model_name': 'gpt-4o-mini-2024-07-18', 'system_fingerprint': 'fp_51db84afab', 'id': 'chatcmpl-CRzCJaIYHwpMypPEYIZbDUvzATrK5', 'service_tier': 'default', 'finish_reason': 'stop', 'logprobs': None}, id='run--01389fe4-cb42-479f-bc7a-3ab381ab0b74-0', usage_metadata={'input_tokens': 65, 'output_tokens': 26, 'total_tokens': 91, 'input_token_details': {'audio': 0, 'cache_read': 0}, 'output_token_details': {'audio': 0, 'reasoning': 0}}), HumanMessage(content='ㅂ', additional_kwargs={}, response_metadata={}, id='9c47098c-aae1-4fdb-b5f3-ecbc39aa9122'), AIMessage(content='무언가 궁금한 점이나 이야기하고 싶은 것이 있으면 말씀해 주세요! 도와드릴 준비가 되어 있습니다.', additional_kwargs={'refusal': None}, response_metadata={'token_usage': {'completion_tokens': 27, 'prompt_tokens': 101, 'total_tokens': 128, 'completion_tokens_details': {'accepted_prediction_tokens': 0, 'audio_tokens': 0, 'reasoning_tokens': 0, 'rejected_prediction_tokens': 0}, 'prompt_tokens_details': {'audio_tokens': 0, 'cached_tokens': 0}}, 'model_name': 'gpt-4o-mini-2024-07-18', 'system_fingerprint': 'fp_560af6e559', 'id': 'chatcmpl-CRzCMKDqaoeiKFnixD2IdvOOKx92x', 'service_tier': 'default', 'finish_reason': 'stop', 'logprobs': None}, id='run--dbce532a-fac3-4e04-99c3-a72cd25cafef-0', usage_metadata={'input_tokens': 101, 'output_tokens': 27, 'total_tokens': 128, 'input_token_details': {'audio': 0, 'cache_read': 0}, 'output_token_details': {'audio': 0, 'reasoning': 0}})]}, next=(), config={'configurable': {'thread_id': '1', 'checkpoint_ns': '', 'checkpoint_id': '1f0ac13c-6ee4-60bc-8007-5596576d11be'}}, metadata={'source': 'loop', 'step': 7, 'parents': {}}, created_at='2025-10-18T11:15:39.034424+00:00', parent_config={'configurable': {'thread_id': '1', 'checkpoint_ns': '', 'checkpoint_id': '1f0ac13c-665e-6758-8006-47a4a35898be'}}, tasks=(), interrupts=())"
      ]
     },
     "execution_count": 34,
     "metadata": {},
     "output_type": "execute_result"
    }
   ],
   "source": [
    "graph.get_state(config)"
   ]
  }
 ],
 "metadata": {
  "kernelspec": {
   "display_name": "Agent-study",
   "language": "python",
   "name": "python3"
  },
  "language_info": {
   "codemirror_mode": {
    "name": "ipython",
    "version": 3
   },
   "file_extension": ".py",
   "mimetype": "text/x-python",
   "name": "python",
   "nbconvert_exporter": "python",
   "pygments_lexer": "ipython3",
   "version": "3.10.18"
  }
 },
 "nbformat": 4,
 "nbformat_minor": 5
}
