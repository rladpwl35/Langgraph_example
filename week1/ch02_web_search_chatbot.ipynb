{
 "cells": [
  {
   "cell_type": "code",
   "execution_count": 1,
   "id": "553a1507",
   "metadata": {},
   "outputs": [],
   "source": [
    "import getpass, os\n",
    "\n",
    "def _set_env(var: str):\n",
    "    if not os.environ.get(var):\n",
    "        os.environ[var] = getpass.getpass(f\"Enter {var}: \")\n",
    "\n",
    "_set_env(\"OPENAI_API_KEY\")\n",
    "_set_env(\"TAVILY_API_KEY\")"
   ]
  },
  {
   "cell_type": "code",
   "execution_count": 14,
   "id": "ca6003f3",
   "metadata": {},
   "outputs": [],
   "source": [
    "from tavily import TavilyClient\n",
    "\n",
    "tavil_client = TavilyClient()\n"
   ]
  },
  {
   "cell_type": "code",
   "execution_count": 7,
   "id": "ce2f1da4",
   "metadata": {},
   "outputs": [
    {
     "name": "stdout",
     "output_type": "stream",
     "text": [
      "[{'url': 'https://aws.amazon.com/what-is/ai-agents/', 'title': 'What are AI Agents? - Artificial Intelligence - AWS', 'content': '# What are AI Agents? What are AI Agents? What are the challenges of using AI agents? ## What are AI Agents? An artificial intelligence (AI) agent is a software program that can interact with its environment, collect data, and use that data to perform self-directed tasks that meet predetermined goals. The AI agent applies the data to make an informed decision. AI agents work by simplifying and automating complex tasks. AI agents require information to execute tasks they have planned successfully. With sufficient data, the AI agent methodically implements the task at hand. ## What are the challenges of using AI agents? Training and deploying deep learning AI agents require substantial computing resources.', 'score': 0.92491204, 'raw_content': None}, {'url': 'https://github.com/resources/articles/ai/what-are-ai-agents', 'title': 'What are AI agents? - GitHub', 'content': '# What are AI agents? AI agents transform software development by automating workflows and enhancing security. ## What are AI agents? AI agents can perform tasks without human intervention, making them ideal for automating repetitive processes in software development like code reviews or vulnerability detection. ## AI agents in software development By automating repetitive tasks, coding agents and AI coding tools significantly enhance developer productivity and software quality. #### What is an AI agent? #### What do AI agents do? #### How are AI agents used in software development? AI agents are used in software development to automate tasks such as code review, testing, and vulnerability detection.', 'score': 0.8861155, 'raw_content': None}, {'url': 'https://www.ibm.com/think/topics/ai-agents', 'title': 'What Are AI Agents? | IBM', 'content': \"# What are AI agents? ## What are AI agents? The agent's ability to store past interactions in memory and plan future actions encourages a personalized experience and comprehensive responses.1\\xa0This tool calling can be achieved without human intervention and broadens the possibilities for real-world applications of these AI systems. Given the user's goals and the agent’s available tools, the\\xa0AI agent\\xa0then performs task decomposition to improve performance.3\\xa0Essentially, the agent creates a plan of\\xa0specific tasks\\xa0and subtasks to accomplish the complex goal. In contrast,\\xa0agentic AI chatbots learn to adapt to user expectations over time, providing a more personalized experience and comprehensive responses. AI agents ### What are AI agents?\", 'score': 0.8627572, 'raw_content': None}]\n"
     ]
    }
   ],
   "source": [
    "response = tavil_client.search(\"what is ai agent?\", max_results=3)\n",
    "print(response[\"results\"])"
   ]
  },
  {
   "cell_type": "code",
   "execution_count": 4,
   "id": "a78b8a9f",
   "metadata": {},
   "outputs": [
    {
     "name": "stdout",
     "output_type": "stream",
     "text": [
      "[{\"url\": \"https://aws.amazon.com/what-is/ai-agents/\", \"content\": \"# What are AI Agents? What are AI Agents? What are the challenges of using AI agents? ## What are AI Agents? An artificial intelligence (AI) agent is a software program that can interact with its environment, collect data, and use that data to perform self-directed tasks that meet predetermined goals. The AI agent applies the data to make an informed decision. AI agents work by simplifying and automating complex tasks. AI agents require information to execute tasks they have planned successfully. With sufficient data, the AI agent methodically implements the task at hand. ## What are the challenges of using AI agents? Training and deploying deep learning AI agents require substantial computing resources.\"}, {\"url\": \"https://www.ibm.com/think/topics/ai-agents\", \"content\": \"# What are AI agents? ## What are AI agents? The agent's ability to store past interactions in memory and plan future actions encourages a personalized experience and comprehensive responses.1\\u00a0This tool calling can be achieved without human intervention and broadens the possibilities for real-world applications of these AI systems. Given the user's goals and the agent\\u2019s available tools, the\\u00a0AI agent\\u00a0then performs task decomposition to improve performance.3\\u00a0Essentially, the agent creates a plan of\\u00a0specific tasks\\u00a0and subtasks to accomplish the complex goal. In contrast,\\u00a0agentic AI chatbots learn to adapt to user expectations over time, providing a more personalized experience and comprehensive responses. AI agents ### What are AI agents?\"}, {\"url\": \"https://cloud.google.com/discover/what-are-ai-agents\", \"content\": \"**AI assistants** are AI agents designed as applications or products to collaborate directly with users and perform tasks by understanding and responding to natural human language and inputs. ## Google Cloud and AI agents Google Cloud provides a portfolio of products and solutions in the AI agent space. These include integrated AI assistants, pre-built AI agents, AI applications, and a platform of agent and developer tools to build custom AI agents. * Generative AI on Google Cloud A unified data-to-AI governance fabric for all Google Cloud services. Free-to-use, cloud-native and AI-powered data migration services. Service for creating and managing Google Cloud resources. Deployment and development management for APIs on Google Cloud. Manage quotas for all Google Cloud services. * Generative AI on Google Cloud\"}, {\"url\": \"https://www.salesforce.com/agentforce/ai-agents/\", \"content\": \"# What Are AI Agents? AI agents offer numerous benefits, including improved productivity, reduced costs, enhanced decision-making, and a better customer experience. 2. **Customer service agents**: These AI assistants help to answer customer questions and resolve problems with minimal human intervention. Drawing from unified customer data, an agentic AI can surface relevant insights for humans, tailoring financial recommendations to each customer\\u2019s unique needs and goals. Learn more about AI agents and how they can help your business. Many customer service chatbots are AI agents that handle routine inquiries and direct complex issues to human staff. ## Learn more about AI agents and how they can help your business. ### What is agentic AI?\"}, {\"url\": \"https://www.bcg.com/capabilities/artificial-intelligence/ai-agents\", \"content\": \"# AI Agents ## What Are AI Agents? ## How Do AI Agents Work? ## What Are the Components of an AI Agent? ## What Do AI Agents Do? What AI Agents Can Do ## How Do You Use AI Agents? AI agents deliver business value in three main areas: * **Automation of standardized business processes**: AI agents can handle repetitive tasks with accuracy and speed, reducing human error and enabling employees to focus on higher-value work. ## How Are Businesses Using AI Agents Today? ## Are AI Agents the Future? ## Our Insights on AI Agents AI Agents Agentic AI is redefining how businesses operate, installing intelligent virtual assistants that can analyze data and make decisions without human intervention.\"}]\n"
     ]
    }
   ],
   "source": [
    "answer = tavil_client.get_search_context(\"what is ai agent?\")\n",
    "print(answer)"
   ]
  },
  {
   "cell_type": "code",
   "execution_count": 5,
   "id": "9a53d870",
   "metadata": {},
   "outputs": [
    {
     "name": "stdout",
     "output_type": "stream",
     "text": [
      "An AI agent is an autonomous system that performs tasks and makes decisions independently. It uses artificial intelligence to adapt and operate without constant human intervention. AI agents often utilize large language models to achieve complex goals.\n"
     ]
    }
   ],
   "source": [
    "answer = tavil_client.qna_search(\"what is ai agent?\")\n",
    "print(answer)"
   ]
  },
  {
   "cell_type": "code",
   "execution_count": 8,
   "id": "25cd64a4",
   "metadata": {},
   "outputs": [
    {
     "data": {
      "text/plain": [
       "{'query': 'what is ai agent?',\n",
       " 'follow_up_questions': None,\n",
       " 'answer': None,\n",
       " 'images': [],\n",
       " 'results': [{'url': 'https://aws.amazon.com/what-is/ai-agents/',\n",
       "   'title': 'What are AI Agents? - Artificial Intelligence - AWS',\n",
       "   'content': '# What are AI Agents? What are AI Agents? What are the challenges of using AI agents? ## What are AI Agents? An artificial intelligence (AI) agent is a software program that can interact with its environment, collect data, and use that data to perform self-directed tasks that meet predetermined goals. The AI agent applies the data to make an informed decision. AI agents work by simplifying and automating complex tasks. AI agents require information to execute tasks they have planned successfully. With sufficient data, the AI agent methodically implements the task at hand. ## What are the challenges of using AI agents? Training and deploying deep learning AI agents require substantial computing resources.',\n",
       "   'score': 0.92491204,\n",
       "   'raw_content': None},\n",
       "  {'url': 'https://github.com/resources/articles/ai/what-are-ai-agents',\n",
       "   'title': 'What are AI agents? - GitHub',\n",
       "   'content': '# What are AI agents? AI agents transform software development by automating workflows and enhancing security. ## What are AI agents? AI agents can perform tasks without human intervention, making them ideal for automating repetitive processes in software development like code reviews or vulnerability detection. ## AI agents in software development By automating repetitive tasks, coding agents and AI coding tools significantly enhance developer productivity and software quality. #### What is an AI agent? #### What do AI agents do? #### How are AI agents used in software development? AI agents are used in software development to automate tasks such as code review, testing, and vulnerability detection.',\n",
       "   'score': 0.8861155,\n",
       "   'raw_content': None},\n",
       "  {'url': 'https://www.ibm.com/think/topics/ai-agents',\n",
       "   'title': 'What Are AI Agents? | IBM',\n",
       "   'content': \"# What are AI agents? ## What are AI agents? The agent's ability to store past interactions in memory and plan future actions encourages a personalized experience and comprehensive responses.1\\xa0This tool calling can be achieved without human intervention and broadens the possibilities for real-world applications of these AI systems. Given the user's goals and the agent’s available tools, the\\xa0AI agent\\xa0then performs task decomposition to improve performance.3\\xa0Essentially, the agent creates a plan of\\xa0specific tasks\\xa0and subtasks to accomplish the complex goal. In contrast,\\xa0agentic AI chatbots learn to adapt to user expectations over time, providing a more personalized experience and comprehensive responses. AI agents ### What are AI agents?\",\n",
       "   'score': 0.8627572,\n",
       "   'raw_content': None}],\n",
       " 'response_time': 0.0,\n",
       " 'request_id': 'b3da6b27-03f8-49a9-9915-ccafb1f8b2e1'}"
      ]
     },
     "execution_count": 8,
     "metadata": {},
     "output_type": "execute_result"
    }
   ],
   "source": [
    "from langchain_tavily import TavilySearch\n",
    "\n",
    "tool = TavilySearch(max_results=3)\n",
    "tool.invoke(\"what is ai agent?\")"
   ]
  },
  {
   "cell_type": "code",
   "execution_count": 16,
   "id": "ffca5b4c",
   "metadata": {},
   "outputs": [
    {
     "data": {
      "text/plain": [
       "[{'url': 'https://www.ibm.com/think/topics/ai-agents',\n",
       "  'content': '# What are AI agents?\\n\\n## Authors\\n\\nAnna Gutowska \\n\\nAI Engineer, Developer Advocate\\n\\n## What are AI agents?\\n\\nAn artificial intelligence (AI) agent is a system that autonomously performs tasks by designing workflows with available tools.\\n\\nAI agents can encompass a wide range of functions beyond natural language processing including decision-making, problem-solving, interacting with external environments and performing actions. [...] With the ongoing advancements in generative AI and machine learning, there is a growing interest in workflow optimization through AI, or intelligent automation. AI agents are AI tools that can automate complex tasks that would otherwise require human resources. This shift translates to goals being reached inexpensively, rapidly and at scale. In turn, these advancements mean human agents do not need to provide direction to the AI assistant for creating and navigating its tasks.'},\n",
       " {'url': 'https://aws.amazon.com/what-is/ai-agents/',\n",
       "  'content': 'An artificial intelligence (AI) agent is a software program that can interact with its environment, collect data, and use that data to perform self-directed tasks that meet predetermined goals. Humans set goals, but an AI agent independently chooses the best actions it needs to perform to achieve those goals. For example, consider a contact center AI agent that wants to resolve customer queries. The agent will automatically ask the customer different questions, look up information in internal [...] For example, in autonomous vehicle fleets, each vehicle acts as an independent agent but collaborates with others to avoid traffic congestion and prevent collisions, leading to smoother traffic flow.\\n\\n## What are the challenges of using AI agents?\\n\\nAI agents are helpful software technologies that automate business workflows to achieve better outcomes. That being said, organizations should address the following concerns when deploying autonomous AI agents for business use cases. [...] For example, cybersecurity agents collect data from third-party databases to remain aware of the latest security incidents.\\n\\n### Rationality\\n\\nAI agents are rational entities with reasoning capabilities. They combine data from their environment with domain knowledge and past context to make informed decisions, achieving optimal performance and results.'},\n",
       " {'url': 'https://www.mckinsey.com/featured-insights/mckinsey-explainers/what-is-an-ai-agent',\n",
       "  'content': 'What is an AI agent and how will they impact the world? | McKinsey\\n\\nSkip to main content\\n\\n\\n\\nAn AI agentis a software component that has the agency to act on behalf of a user or a system to perform tasks. Users can organize agents into systems that can orchestrate complex workflows, coordinate activities among multiple agents, apply logicto thorny problems, and evaluate answers to user queries.\\n\\n##### Get to know and directly engage with senior McKinsey experts on AI agents [...] _Loan underwriting._ An AI agent system—which comprises multiple specialized agents—could handle a wide range of credit risk scenarios. In the past, this has typically been a time-consuming and highly collaborative process that involves compiling, analyzing, and reviewing various pieces of information related to the borrower, loan type, and other variables.'}]"
      ]
     },
     "execution_count": 16,
     "metadata": {},
     "output_type": "execute_result"
    }
   ],
   "source": [
    "from langchain_community.tools.tavily_search import TavilySearchResults\n",
    "\n",
    "tool = TavilySearchResults(max_results=3)\n",
    "tool.invoke(\"what is ai agent?\")\n"
   ]
  },
  {
   "cell_type": "code",
   "execution_count": 17,
   "id": "45617295",
   "metadata": {},
   "outputs": [
    {
     "data": {
      "text/plain": [
       "ToolMessage(content='[{\"url\": \"https://www.ibm.com/think/topics/ai-agents\", \"content\": \"# What are AI agents?\\\\n\\\\n## Authors\\\\n\\\\nAnna Gutowska \\\\n\\\\nAI Engineer, Developer Advocate\\\\n\\\\n## What are AI agents?\\\\n\\\\nAn artificial intelligence (AI) agent is a system that autonomously performs tasks by designing workflows with available tools.\\\\n\\\\nAI agents can encompass a wide range of functions beyond natural language processing including decision-making, problem-solving, interacting with external environments and performing actions. [...] With the ongoing advancements in generative AI and machine learning, there is a growing interest in workflow optimization through AI, or intelligent automation. AI agents are AI tools that can automate complex tasks that would otherwise require human resources. This shift translates to goals being reached inexpensively, rapidly and at scale. In turn, these advancements mean human agents do not need to provide direction to the AI assistant for creating and navigating its tasks.\"}, {\"url\": \"https://aws.amazon.com/what-is/ai-agents/\", \"content\": \"An artificial intelligence (AI) agent is a software program that can interact with its environment, collect data, and use that data to perform self-directed tasks that meet predetermined goals. Humans set goals, but an AI agent independently chooses the best actions it needs to perform to achieve those goals. For example, consider a contact center AI agent that wants to resolve customer queries. The agent will automatically ask the customer different questions, look up information in internal [...] For example, in autonomous vehicle fleets, each vehicle acts as an independent agent but collaborates with others to avoid traffic congestion and prevent collisions, leading to smoother traffic flow.\\\\n\\\\n## What are the challenges of using AI agents?\\\\n\\\\nAI agents are helpful software technologies that automate business workflows to achieve better outcomes. That being said, organizations should address the following concerns when deploying autonomous AI agents for business use cases. [...] For example, cybersecurity agents collect data from third-party databases to remain aware of the latest security incidents.\\\\n\\\\n### Rationality\\\\n\\\\nAI agents are rational entities with reasoning capabilities. They combine data from their environment with domain knowledge and past context to make informed decisions, achieving optimal performance and results.\"}, {\"url\": \"https://www.mckinsey.com/featured-insights/mckinsey-explainers/what-is-an-ai-agent\", \"content\": \"What is an AI agent and how will they impact the world? | McKinsey\\\\n\\\\nSkip to main content\\\\n\\\\n\\\\n\\\\nAn AI agentis a software component that has the agency to act on behalf of a user or a system to perform tasks. Users can organize agents into systems that can orchestrate complex workflows, coordinate activities among multiple agents, apply logicto thorny problems, and evaluate answers to user queries.\\\\n\\\\n##### Get to know and directly engage with senior McKinsey experts on AI agents [...] _Loan underwriting._ An AI agent system—which comprises multiple specialized agents—could handle a wide range of credit risk scenarios. In the past, this has typically been a time-consuming and highly collaborative process that involves compiling, analyzing, and reviewing various pieces of information related to the borrower, loan type, and other variables.\"}]', name='tavily_search_results_json', tool_call_id='foo', artifact={'query': 'what is ai agent?', 'follow_up_questions': None, 'answer': None, 'images': [], 'results': [{'url': 'https://www.ibm.com/think/topics/ai-agents', 'title': 'What Are AI Agents? | IBM', 'content': '# What are AI agents?\\n\\n## Authors\\n\\nAnna Gutowska \\n\\nAI Engineer, Developer Advocate\\n\\n## What are AI agents?\\n\\nAn artificial intelligence (AI) agent is a system that autonomously performs tasks by designing workflows with available tools.\\n\\nAI agents can encompass a wide range of functions beyond natural language processing including decision-making, problem-solving, interacting with external environments and performing actions. [...] With the ongoing advancements in generative AI and machine learning, there is a growing interest in workflow optimization through AI, or intelligent automation. AI agents are AI tools that can automate complex tasks that would otherwise require human resources. This shift translates to goals being reached inexpensively, rapidly and at scale. In turn, these advancements mean human agents do not need to provide direction to the AI assistant for creating and navigating its tasks.', 'score': 0.9377661, 'raw_content': None}, {'url': 'https://aws.amazon.com/what-is/ai-agents/', 'title': 'What are AI Agents? - Artificial Intelligence - AWS', 'content': 'An artificial intelligence (AI) agent is a software program that can interact with its environment, collect data, and use that data to perform self-directed tasks that meet predetermined goals. Humans set goals, but an AI agent independently chooses the best actions it needs to perform to achieve those goals. For example, consider a contact center AI agent that wants to resolve customer queries. The agent will automatically ask the customer different questions, look up information in internal [...] For example, in autonomous vehicle fleets, each vehicle acts as an independent agent but collaborates with others to avoid traffic congestion and prevent collisions, leading to smoother traffic flow.\\n\\n## What are the challenges of using AI agents?\\n\\nAI agents are helpful software technologies that automate business workflows to achieve better outcomes. That being said, organizations should address the following concerns when deploying autonomous AI agents for business use cases. [...] For example, cybersecurity agents collect data from third-party databases to remain aware of the latest security incidents.\\n\\n### Rationality\\n\\nAI agents are rational entities with reasoning capabilities. They combine data from their environment with domain knowledge and past context to make informed decisions, achieving optimal performance and results.', 'score': 0.9374919, 'raw_content': None}, {'url': 'https://www.mckinsey.com/featured-insights/mckinsey-explainers/what-is-an-ai-agent', 'title': 'What is an AI agent? - McKinsey', 'content': 'What is an AI agent and how will they impact the world? | McKinsey\\n\\nSkip to main content\\n\\n\\n\\nAn AI agentis a software component that has the agency to act on behalf of a user or a system to perform tasks. Users can organize agents into systems that can orchestrate complex workflows, coordinate activities among multiple agents, apply logicto thorny problems, and evaluate answers to user queries.\\n\\n##### Get to know and directly engage with senior McKinsey experts on AI agents [...] _Loan underwriting._ An AI agent system—which comprises multiple specialized agents—could handle a wide range of credit risk scenarios. In the past, this has typically been a time-consuming and highly collaborative process that involves compiling, analyzing, and reviewing various pieces of information related to the borrower, loan type, and other variables.', 'score': 0.92652357, 'raw_content': None}], 'response_time': 0.0, 'request_id': '32868993-c113-40c4-a4cb-f08d9ec846ad'})"
      ]
     },
     "execution_count": 17,
     "metadata": {},
     "output_type": "execute_result"
    }
   ],
   "source": [
    "invoke_with_toolcall = tool.invoke({\"args\": {'query' : \"what is ai agent?\"}, \"type\": \"tool_call\", \"id\": \"foo\", \"name\": \"tavily_search\"})\n",
    "invoke_with_toolcall"
   ]
  },
  {
   "cell_type": "code",
   "execution_count": 16,
   "id": "ea35ed2c",
   "metadata": {},
   "outputs": [
    {
     "data": {
      "text/plain": [
       "'[{\"title\": \"What Are AI Agents? | IBM\", \"url\": \"https://www.ibm.com/think/topics/ai-agents\", \"content\": \"# What are AI agents?\\\\n\\\\n## Authors\\\\n\\\\nAnna Gutowska \\\\n\\\\nAI Engineer, Developer Advocate\\\\n\\\\n## What are AI agents?\\\\n\\\\nAn artificial intelligence (AI) agent is a system that autonomously performs tasks by designing workflows with available tools.\\\\n\\\\nAI agents can encompass a wide range of functions beyond natural language processing including decision-making, problem-solving, interacting with external environments and performing actions. [...] With the ongoing advancements in generative AI and machine learning, there is a growing interest in workflow optimization through AI, or intelligent automation. AI agents are AI tools that can automate complex tasks that would otherwise require human resources. This shift translates to goals being reached inexpensively, rapidly and at scale. In turn, these advancements mean human agents do not need to provide direction to the AI assistant for creating and navigating its tasks.\", \"score\": 0.9377661}, {\"title\": \"What are AI Agents? - Artificial Intelligence - AWS\", \"url\": \"https://aws.amazon.com/what-is/ai-agents/\", \"content\": \"An artificial intelligence (AI) agent is a software program that can interact with its environment, collect data, and use that data to perform self-directed tasks that meet predetermined goals. Humans set goals, but an AI agent independently chooses the best actions it needs to perform to achieve those goals. For example, consider a contact center AI agent that wants to resolve customer queries. The agent will automatically ask the customer different questions, look up information in internal [...] For example, in autonomous vehicle fleets, each vehicle acts as an independent agent but collaborates with others to avoid traffic congestion and prevent collisions, leading to smoother traffic flow.\\\\n\\\\n## What are the challenges of using AI agents?\\\\n\\\\nAI agents are helpful software technologies that automate business workflows to achieve better outcomes. That being said, organizations should address the following concerns when deploying autonomous AI agents for business use cases. [...] For example, cybersecurity agents collect data from third-party databases to remain aware of the latest security incidents.\\\\n\\\\n### Rationality\\\\n\\\\nAI agents are rational entities with reasoning capabilities. They combine data from their environment with domain knowledge and past context to make informed decisions, achieving optimal performance and results.\", \"score\": 0.9374919}, {\"title\": \"What is an AI agent? - McKinsey\", \"url\": \"https://www.mckinsey.com/featured-insights/mckinsey-explainers/what-is-an-ai-agent\", \"content\": \"What is an AI agent and how will they impact the world? | McKinsey\\\\n\\\\nSkip to main content\\\\n\\\\n\\\\n\\\\nAn AI agentis a software component that has the agency to act on behalf of a user or a system to perform tasks. Users can organize agents into systems that can orchestrate complex workflows, coordinate activities among multiple agents, apply logicto thorny problems, and evaluate answers to user queries.\\\\n\\\\n##### Get to know and directly engage with senior McKinsey experts on AI agents [...] _Loan underwriting._ An AI agent system—which comprises multiple specialized agents—could handle a wide range of credit risk scenarios. In the past, this has typically been a time-consuming and highly collaborative process that involves compiling, analyzing, and reviewing various pieces of information related to the borrower, loan type, and other variables.\", \"score\": 0.92652357}]'"
      ]
     },
     "execution_count": 16,
     "metadata": {},
     "output_type": "execute_result"
    }
   ],
   "source": [
    "invoke_with_toolcall.content"
   ]
  },
  {
   "cell_type": "code",
   "execution_count": 17,
   "id": "64bcf850",
   "metadata": {},
   "outputs": [
    {
     "data": {
      "text/plain": [
       "{'query': 'what is ai agent?',\n",
       " 'follow_up_questions': None,\n",
       " 'answer': None,\n",
       " 'images': [],\n",
       " 'results': [{'url': 'https://www.ibm.com/think/topics/ai-agents',\n",
       "   'title': 'What Are AI Agents? | IBM',\n",
       "   'content': '# What are AI agents?\\n\\n## Authors\\n\\nAnna Gutowska \\n\\nAI Engineer, Developer Advocate\\n\\n## What are AI agents?\\n\\nAn artificial intelligence (AI) agent is a system that autonomously performs tasks by designing workflows with available tools.\\n\\nAI agents can encompass a wide range of functions beyond natural language processing including decision-making, problem-solving, interacting with external environments and performing actions. [...] With the ongoing advancements in generative AI and machine learning, there is a growing interest in workflow optimization through AI, or intelligent automation. AI agents are AI tools that can automate complex tasks that would otherwise require human resources. This shift translates to goals being reached inexpensively, rapidly and at scale. In turn, these advancements mean human agents do not need to provide direction to the AI assistant for creating and navigating its tasks.',\n",
       "   'score': 0.9377661,\n",
       "   'raw_content': None},\n",
       "  {'url': 'https://aws.amazon.com/what-is/ai-agents/',\n",
       "   'title': 'What are AI Agents? - Artificial Intelligence - AWS',\n",
       "   'content': 'An artificial intelligence (AI) agent is a software program that can interact with its environment, collect data, and use that data to perform self-directed tasks that meet predetermined goals. Humans set goals, but an AI agent independently chooses the best actions it needs to perform to achieve those goals. For example, consider a contact center AI agent that wants to resolve customer queries. The agent will automatically ask the customer different questions, look up information in internal [...] For example, in autonomous vehicle fleets, each vehicle acts as an independent agent but collaborates with others to avoid traffic congestion and prevent collisions, leading to smoother traffic flow.\\n\\n## What are the challenges of using AI agents?\\n\\nAI agents are helpful software technologies that automate business workflows to achieve better outcomes. That being said, organizations should address the following concerns when deploying autonomous AI agents for business use cases. [...] For example, cybersecurity agents collect data from third-party databases to remain aware of the latest security incidents.\\n\\n### Rationality\\n\\nAI agents are rational entities with reasoning capabilities. They combine data from their environment with domain knowledge and past context to make informed decisions, achieving optimal performance and results.',\n",
       "   'score': 0.9374919,\n",
       "   'raw_content': None},\n",
       "  {'url': 'https://www.mckinsey.com/featured-insights/mckinsey-explainers/what-is-an-ai-agent',\n",
       "   'title': 'What is an AI agent? - McKinsey',\n",
       "   'content': 'What is an AI agent and how will they impact the world? | McKinsey\\n\\nSkip to main content\\n\\n\\n\\nAn AI agentis a software component that has the agency to act on behalf of a user or a system to perform tasks. Users can organize agents into systems that can orchestrate complex workflows, coordinate activities among multiple agents, apply logicto thorny problems, and evaluate answers to user queries.\\n\\n##### Get to know and directly engage with senior McKinsey experts on AI agents [...] _Loan underwriting._ An AI agent system—which comprises multiple specialized agents—could handle a wide range of credit risk scenarios. In the past, this has typically been a time-consuming and highly collaborative process that involves compiling, analyzing, and reviewing various pieces of information related to the borrower, loan type, and other variables.',\n",
       "   'score': 0.92652357,\n",
       "   'raw_content': None}],\n",
       " 'response_time': 0.0,\n",
       " 'request_id': 'c641e35f-aec0-4441-a971-259ba4e0175a'}"
      ]
     },
     "execution_count": 17,
     "metadata": {},
     "output_type": "execute_result"
    }
   ],
   "source": [
    "invoke_with_toolcall.artifact"
   ]
  },
  {
   "cell_type": "code",
   "execution_count": null,
   "id": "52a143c1",
   "metadata": {},
   "outputs": [],
   "source": [
    "from langchain_core.tools import tool\n",
    "from langchain_community.tools.tavily_search import TavilySearchResults\n",
    "\n",
    "@tool\n",
    "def add(a: int, b: int) -> int:\n",
    "    \"\"\"Add two numbers together\"\"\"\n",
    "    return a + b\n",
    "\n",
    "@tool\n",
    "def multiply(a: int, b: int) -> int:\n",
    "    \"\"\"Multiply two numbers together\"\"\"\n",
    "    return a * b\n",
    "\n",
    "tools = [add, multiply]\n"
   ]
  },
  {
   "cell_type": "code",
   "execution_count": 4,
   "id": "304c7743",
   "metadata": {},
   "outputs": [],
   "source": [
    "from langchain_openai import ChatOpenAI\n",
    "\n",
    "# bind tool: 툴을 호출할 준비를 해주는 메서드\n",
    "llm = ChatOpenAI(model=\"gpt-4o-mini\")\n",
    "llm_with_tools = llm.bind_tools(tools)"
   ]
  },
  {
   "cell_type": "code",
   "execution_count": 6,
   "id": "e4df2265",
   "metadata": {},
   "outputs": [
    {
     "data": {
      "text/plain": [
       "AIMessage(content='Hello! How can I assist you today?', additional_kwargs={'refusal': None}, response_metadata={'token_usage': {'completion_tokens': 10, 'prompt_tokens': 68, 'total_tokens': 78, 'completion_tokens_details': {'accepted_prediction_tokens': 0, 'audio_tokens': 0, 'reasoning_tokens': 0, 'rejected_prediction_tokens': 0}, 'prompt_tokens_details': {'audio_tokens': 0, 'cached_tokens': 0}}, 'model_provider': 'openai', 'model_name': 'gpt-4o-mini-2024-07-18', 'system_fingerprint': 'fp_560af6e559', 'id': 'chatcmpl-CS0LC3poZb1IxkbPFTIT5GQMoMrcW', 'service_tier': 'default', 'finish_reason': 'stop', 'logprobs': None}, id='lc_run--a6920b21-0c78-4399-9ff5-5f15df29d410-0', usage_metadata={'input_tokens': 68, 'output_tokens': 10, 'total_tokens': 78, 'input_token_details': {'audio': 0, 'cache_read': 0}, 'output_token_details': {'audio': 0, 'reasoning': 0}})"
      ]
     },
     "execution_count": 6,
     "metadata": {},
     "output_type": "execute_result"
    }
   ],
   "source": [
    "# query = \"2랑 2를 곱한 더한 갑과 2와 2를 곱한값을 비교해줘\"\n",
    "query = \"hi\"\n",
    "\n",
    "llm_with_tools.invoke(query)"
   ]
  },
  {
   "cell_type": "markdown",
   "id": "a62aaba5",
   "metadata": {},
   "source": [
    "# 웹검색 기반으로 답변하는 LLM 챗봇 만들기"
   ]
  },
  {
   "cell_type": "code",
   "execution_count": null,
   "id": "499522b7",
   "metadata": {},
   "outputs": [
    {
     "data": {
      "text/plain": [
       "<langgraph.graph.state.StateGraph at 0x1262e2410>"
      ]
     },
     "execution_count": 32,
     "metadata": {},
     "output_type": "execute_result"
    }
   ],
   "source": [
    "from typing import Annotated\n",
    "\n",
    "from typing_extensions import TypedDict\n",
    "\n",
    "from langgraph.graph import StateGraph, START, END\n",
    "from langgraph.graph.message import add_messages\n",
    "\n",
    "class State(TypedDict):\n",
    "    messages: Annotated[list, add_messages]\n",
    "\n",
    "graph_builder = StateGraph(State)\n",
    "\n",
    "def chatbot(state: State):\n",
    "    # 영화 관련 질문에 대해 구조화된 응답을 위한 시스템 메시지 추가\n",
    "    messages = state[\"messages\"]\n",
    "    \n",
    "    # 영화 관련 질문인지 확인\n",
    "    last_message = messages[-1].content if messages else \"\"\n",
    "    if any(keyword in last_message.lower() for keyword in [\"영화\", \"movie\", \"film\", \"cinema\"]):\n",
    "        # 영화 정보를 구조화된 형태로 출력하도록 프롬프트 추가\n",
    "        system_prompt = \"\"\"영화에 대한 질문이면 다음 형식으로 답변해주세요:\n",
    "\n",
    "제목: [영화 제목]\n",
    "장르: [장르]\n",
    "개봉년도: [년도]\n",
    "감독: [감독명]\n",
    "주요 출연진: [배우들]\n",
    "줄거리: [간단한 줄거리]\n",
    "평점: [평점/리뷰]\n",
    "\n",
    "웹 검색을 통해 최신 정보를 찾아서 답변해주세요.\"\"\"\n",
    "        \n",
    "        enhanced_messages = [{\"role\": \"system\", \"content\": system_prompt}] + messages\n",
    "        return {\"messages\": [llm_with_tools.invoke(enhanced_messages)]}\n",
    "    else:\n",
    "        return {\"messages\": [llm_with_tools.invoke(state[\"messages\"])]}\n",
    "\n",
    "graph_builder.add_node(\"chatbot\", chatbot)"
   ]
  },
  {
   "cell_type": "code",
   "execution_count": 33,
   "id": "2ec93211",
   "metadata": {},
   "outputs": [
    {
     "data": {
      "text/plain": [
       "<langgraph.graph.state.StateGraph at 0x1262e2410>"
      ]
     },
     "execution_count": 33,
     "metadata": {},
     "output_type": "execute_result"
    }
   ],
   "source": [
    "from langgraph.prebuilt import ToolNode\n",
    "\n",
    "\n",
    "# 툴을 실행시켜서 결과값을 전달해주는 노드 ToolNode\n",
    "tool_node = ToolNode(tools=tools)\n",
    "graph_builder.add_node(\"tools\", tool_node)"
   ]
  },
  {
   "cell_type": "markdown",
   "id": "bd8850a5",
   "metadata": {},
   "source": [
    "- 툴노드로 들어갈지 말지를 결정해주는 부분\n",
    "- 조건부엣지, 라우팅 (add_conditional_edges)추가"
   ]
  },
  {
   "cell_type": "code",
   "execution_count": 34,
   "id": "402e71ba",
   "metadata": {},
   "outputs": [
    {
     "data": {
      "text/plain": [
       "<langgraph.graph.state.StateGraph at 0x1262e2410>"
      ]
     },
     "execution_count": 34,
     "metadata": {},
     "output_type": "execute_result"
    }
   ],
   "source": [
    "def route_tools(\n",
    "    state: State,\n",
    "):\n",
    "    \"\"\"\n",
    "    Use in the conditional edge to route to the ToolNodeif the last message\n",
    "    has tool calls. Otherwise, route to the end.\n",
    "    마지막 메시지에 도구 호출이 있는 경우 conditional_edge에서 ToolNode 로 라우팅 하고 그렇지 않으면 END를 라우팅\n",
    "    \"\"\"\n",
    "    # 메시지가 목록인 경우 마지막 메시지를 가져옴\n",
    "    if isinstance(state, list):\n",
    "        ai_message = state[-1]\n",
    "    elif message := state.get(\"messages\", []):\n",
    "        ai_message = message[-1]\n",
    "    else:\n",
    "        raise ValueError(f\"No AI message found : {state}\")\n",
    "    \n",
    "    # 마지막 메시지에 도구 호출이 있는 경우 ToolNode로 라우팅\n",
    "    if hasattr(ai_message, \"tool_calls\") and len(ai_message.tool_calls) > 0:\n",
    "        return \"tools\"\n",
    "    return END\n",
    "\n",
    "graph_builder.add_conditional_edges(\n",
    "    \"chatbot\",\n",
    "    route_tools,\n",
    "    {\"tools\": \"tools\", END: END}\n",
    ")\n"
   ]
  },
  {
   "cell_type": "code",
   "execution_count": 36,
   "id": "8e9b6e44",
   "metadata": {},
   "outputs": [],
   "source": [
    "graph_builder.add_edge(START, \"chatbot\")\n",
    "graph_builder.add_edge(\"tools\", \"chatbot\")\n",
    "graph = graph_builder.compile()"
   ]
  },
  {
   "cell_type": "code",
   "execution_count": 37,
   "id": "a07d24da",
   "metadata": {},
   "outputs": [
    {
     "data": {
      "image/png": "[encoded data removed]",
      "text/plain": [
       "<IPython.core.display.Image object>"
      ]
     },
     "metadata": {},
     "output_type": "display_data"
    }
   ],
   "source": [
    "from IPython.display import Image, display\n",
    "\n",
    "display(Image(graph.get_graph().draw_mermaid_png()))"
   ]
  },
  {
   "cell_type": "code",
   "execution_count": 39,
   "id": "2aff8867",
   "metadata": {},
   "outputs": [
    {
     "name": "stdout",
     "output_type": "stream",
     "text": [
      "User:  q\n",
      "goodbye!\n"
     ]
    }
   ],
   "source": [
    "def stream_graph_updates(user_input: str):\n",
    "    for event in graph.stream({\"messages\": [{\"role\": \"user\", \"content\": user_input }]}):\n",
    "        for value in event.values():\n",
    "            print(\"Assistant: \", value[\"messages\"][-1].content)\n",
    "\n",
    "\n",
    "while True:\n",
    "    user_input = input(\"You: \")\n",
    "    print(\"User: \", user_input)\n",
    "    if user_input.lower() in [\"quit\", \"exit\", \"q\"]:\n",
    "        print(\"goodbye!\")\n",
    "        break\n",
    "    stream_graph_updates(user_input)"
   ]
  }
 ],
 "metadata": {
  "kernelspec": {
   "display_name": "agent-study",
   "language": "python",
   "name": "python3"
  },
  "language_info": {
   "codemirror_mode": {
    "name": "ipython",
    "version": 3
   },
   "file_extension": ".py",
   "mimetype": "text/x-python",
   "name": "python",
   "nbconvert_exporter": "python",
   "pygments_lexer": "ipython3",
   "version": "3.11.0"
  }
 },
 "nbformat": 4,
 "nbformat_minor": 5
}
