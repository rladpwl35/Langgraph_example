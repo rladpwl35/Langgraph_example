{
 "cells": [
  {
   "cell_type": "markdown",
   "id": "af985aaf",
   "metadata": {},
   "source": [
    "# LangGraph Reducer 사용 예제\n",
    "\n",
    "## LangGraph Reducer?\n",
    "리듀서는 LangGraph에서 상태 업데이트 로직을 정의하는 핵심 메커니즘입니다. 각 노드가 반환하는 업데이트를 기존 상태에 어떻게 적용할지 결정하는 함수입니다.\n",
    "\n",
    "## 왜 리듀서가 필요한가?\n",
    "\n",
    "- 여러 노드가 동시에 또는 순차적으로 실행될 때, 각 노드의 출력을 상태에 통합하는 방법이 필요합니다. \n",
    "- 리듀서를 통해 누적, 병합, 최대값 유지 등 다양한 업데이트 전략을 구현할 수 있습니다.\n",
    "- (**주의 사항으로 노드 병렬 실행시 리듀서를 적절히 사용하지 않으면 에러**)\n",
    "\n",
    "* 출처 https://wikidocs.net/293355"
   ]
  },
  {
   "cell_type": "code",
   "execution_count": null,
   "id": "187a254b",
   "metadata": {},
   "outputs": [],
   "source": [
    "# 리듀서 없음 = 덮어쓰기 (Default Reducer)\n",
    "old_state = {\"counter\": 5}\n",
    "new_update = {\"counter\": 10}\n",
    "result = {\"counter\": 10}  # 기존 값이 완전히 대체됨\n",
    "\n",
    "# 리듀서 있음 = 사용자 정의 동작\n",
    "from operator import add\n",
    "old_state = {\"items\": [1, 2, 3]}\n",
    "new_update = {\"items\": [4, 5]}\n",
    "result = {\"items\": [1, 2, 3, 4, 5]}  # 리스트가 연결됨"
   ]
  },
  {
   "cell_type": "code",
   "execution_count": null,
   "id": "ad6aa0bb",
   "metadata": {},
   "outputs": [],
   "source": [
    "from typing_extensions import TypedDict\n",
    "\n",
    "class SimpleState(TypedDict):\n",
    "    counter: int          # 기본 리듀서: 덮어쓰기\n",
    "    current_user: str     # 기본 리듀서: 덮어쓰기\n",
    "    status: str          # 기본 리듀서: 덮어쓰기\n",
    "\n",
    "def update_counter(state: SimpleState) -> SimpleState:\n",
    "    \"\"\"\n",
    "    이 노드는 counter 값만 업데이트합니다.\n",
    "    다른 키들(current_user, status)은 변경되지 않습니다.\n",
    "    \"\"\"\n",
    "    return {\"counter\": state[\"counter\"] + 1}  \n",
    "    # 반환값: {\"counter\": 6} (state[\"counter\"]가 5라면)\n",
    "    # 최종 상태: 기존 상태에서 counter만 6으로 변경\n",
    "\n",
    "def update_multiple(state: SimpleState) -> SimpleState:\n",
    "    \"\"\"\n",
    "    여러 키를 동시에 업데이트할 수 있습니다.\n",
    "    반환하지 않은 키는 그대로 유지됩니다.\n",
    "    \"\"\"\n",
    "    return {\n",
    "        \"counter\": 0,           # counter를 0으로 리셋\n",
    "        \"status\": \"completed\"   # status를 \"completed\"로 변경\n",
    "        # current_user는 언급하지 않았으므로 변경되지 않음\n",
    "    }"
   ]
  },
  {
   "cell_type": "markdown",
   "id": "c43af7a0",
   "metadata": {},
   "source": [
    "# operator.add - 리스트/문자열 추가\n",
    "- Python의 operator.add 함수를 활용한 누적 리듀서입니다."
   ]
  },
  {
   "cell_type": "code",
   "execution_count": 42,
   "id": "c82c0f00",
   "metadata": {},
   "outputs": [
    {
     "name": "stdout",
     "output_type": "stream",
     "text": [
      "=== add 리듀서 그래프 실행 ===\n",
      "** 최종 결과 **\n",
      "messages: ['안녕하세요', '새 메시지', '또 다른 메시지']\n",
      "log_text: 시작\n",
      "새 로그 항목\n",
      "두 번째 로그\n",
      "\n"
     ]
    }
   ],
   "source": [
    "# add 리듀서 실행 그래프\n",
    "\n",
    "from operator import add\n",
    "from typing import Annotated\n",
    "from typing_extensions import TypedDict\n",
    "from langgraph.graph import StateGraph, START, END\n",
    "from langgraph.graph.message import add_messages\n",
    "\n",
    "\n",
    "class AddState(TypedDict):\n",
    "    # Annotated[타입, 리듀서함수] 형식으로 리듀서 지정\n",
    "    messages: Annotated[list[str], add]      # 리스트에 추가 ap\n",
    "    log_text: Annotated[str, add]            # 문자열 연결\n",
    "\n",
    "def add_message(state: AddState) -> AddState:\n",
    "    \"\"\"첫 번째 메시지 추가\"\"\"\n",
    "    return {\n",
    "        \"messages\": [\"새 메시지\"],              \n",
    "        \"log_text\": \"새 로그 항목\\n\"            \n",
    "    }\n",
    "\n",
    "def add_another_message(state: AddState) -> AddState:\n",
    "    \"\"\"두 번째 메시지 추가\"\"\"\n",
    "    return {\n",
    "        \"messages\": [\"또 다른 메시지\"],\n",
    "        \"log_text\": \"두 번째 로그\\n\"\n",
    "    }\n",
    "\n",
    "# 그래프 생성\n",
    "builder = StateGraph(AddState)\n",
    "builder.add_node(\"add_first\", add_message)\n",
    "builder.add_node(\"add_second\", add_another_message)\n",
    "\n",
    "# 간단한 순차 실행\n",
    "builder.add_edge(START, \"add_first\")\n",
    "builder.add_edge(\"add_first\", \"add_second\")\n",
    "builder.add_edge(\"add_second\", END)\n",
    "\n",
    "graph = builder.compile()\n",
    "\n",
    "# 실행 테스트\n",
    "initial_state = {\n",
    "    \"messages\": [\"안녕하세요\"],\n",
    "    \"log_text\": \"시작\\n\"\n",
    "}\n",
    "\n",
    "print(\"=== add 리듀서 그래프 실행 ===\")\n",
    "result = graph.invoke(initial_state)\n",
    "\n",
    "print(\"** 최종 결과 **\")\n",
    "print(f\"messages: {result['messages']}\")\n",
    "print(f\"log_text: {result['log_text']}\")\n"
   ]
  },
  {
   "cell_type": "markdown",
   "id": "d5935e40",
   "metadata": {},
   "source": [
    "# 메시지 전용 리듀서 - add_messages\n",
    "LangChain 메시지 객체를 위한 특별한 리듀서입니다."
   ]
  },
  {
   "cell_type": "code",
   "execution_count": null,
   "id": "2a6b638d",
   "metadata": {},
   "outputs": [
    {
     "name": "stdout",
     "output_type": "stream",
     "text": [
      "=== add_messages 리듀서 채팅 그래프 실행 ===\n",
      "\n",
      "=== 최종 메시지 목록 ===\n",
      "1. HumanMessage: 안녕하세요! 오늘 날씨는 어떤가요?\n",
      "2. AIMessage: 안녕하세요! 오늘 날씨는 맑음 입니다.\n"
     ]
    }
   ],
   "source": [
    "# add_messages 리듀서 채팅 그래프\n",
    "\n",
    "from langchain_core.messages import HumanMessage, AIMessage\n",
    "from langgraph.graph.message import add_messages\n",
    "from langgraph.graph import StateGraph, MessagesState, START, END\n",
    "from typing import Annotated\n",
    "from typing_extensions import TypedDict\n",
    "\n",
    "class ChatState(TypedDict):\n",
    "    messages: Annotated[list, add_messages]  # 메시지 전용 리듀서\n",
    "\n",
    "# class ChatState(MessagesState):\n",
    "#     \"\"\"MessagesState를 상속받으면 messages 필드와 add_messages 리듀서가 자동 포함\"\"\"\n",
    "\n",
    "def generate_ai_response(state: ChatState) -> ChatState:\n",
    "    \"\"\"AI 응답 생성 노드\"\"\"\n",
    "    return {\n",
    "        \"messages\": [AIMessage(content=\"안녕하세요! 오늘 날씨는 맑음 입니다.\")]\n",
    "    }\n",
    "\n",
    "# 그래프 생성\n",
    "builder = StateGraph(ChatState)\n",
    "builder.add_node(\"ai_response\", generate_ai_response)\n",
    "\n",
    "# 간단한 순차 실행\n",
    "builder.add_edge(START, \"ai_response\")\n",
    "builder.add_edge(\"ai_response\", END)\n",
    "\n",
    "chat_graph = builder.compile()\n",
    "\n",
    "# 실행 테스트\n",
    "initial_state = {\n",
    "    \"messages\": [HumanMessage(content=\"안녕하세요! 오늘 날씨는 어떤가요?\")]\n",
    "}\n",
    "\n",
    "print(\"=== add_messages 리듀서 채팅 그래프 실행 ===\")\n",
    "result = chat_graph.invoke(initial_state)\n",
    "\n",
    "print(\"\\n=== 최종 메시지 목록 ===\")\n",
    "for i, msg in enumerate(result[\"messages\"]):\n",
    "    print(f\"{i+1}. {msg.__class__.__name__}: {msg.content}\")\n"
   ]
  },
  {
   "cell_type": "markdown",
   "id": "c993a3b9",
   "metadata": {},
   "source": [
    "# 단순한 사용자 정의 리듀서\n",
    "- 특정 비즈니스 로직을 구현하는 리듀서를 만들 수 있습니다."
   ]
  },
  {
   "cell_type": "code",
   "execution_count": null,
   "id": "188dd44a",
   "metadata": {},
   "outputs": [],
   "source": [
    "def max_reducer(existing: int, new: int) -> int:\n",
    "    \"\"\"\n",
    "    더 큰 값을 유지하는 리듀서\n",
    "    \"\"\"\n",
    "    return max(existing or 0, new or 0)\n",
    "\n",
    "class MaxState(TypedDict):\n",
    "    highest_score: Annotated[int, max_reducer]\n",
    "    current_score: int  # 리듀서 없음 (덮어쓰기)\n"
   ]
  },
  {
   "cell_type": "code",
   "execution_count": 41,
   "id": "b687f397",
   "metadata": {},
   "outputs": [
    {
     "name": "stdout",
     "output_type": "stream",
     "text": [
      "=== max_reducer 커스텀 리듀서 그래프 실행 ===\n",
      "초기 상태: {'highest_score': 90, 'current_score': 90}\n",
      "노드1: 92점 업데이트 시도\n",
      "노드2: 85점 업데이트 시도\n",
      "\n",
      "최종 결과:\n",
      "highest_score: 92 (max_reducer 적용)\n",
      "current_score: 85 (덮어쓰기)\n"
     ]
    }
   ],
   "source": [
    "\n",
    "class MaxState(TypedDict):\n",
    "    highest_score: Annotated[int, max_reducer]  # 커스텀 리듀서 사용\n",
    "    current_score: int  # 리듀서 없음 (덮어쓰기)\n",
    "\n",
    "def update_score_1(state: MaxState) -> MaxState:\n",
    "    \"\"\"첫 번째 점수 업데이트\"\"\"\n",
    "    new_score = 92\n",
    "    print(f\"노드1: {new_score}점 업데이트 시도\")\n",
    "    return {\n",
    "        \"highest_score\": new_score,  # max_reducer가 적용됨\n",
    "        \"current_score\": new_score   # 단순 덮어쓰기\n",
    "    }\n",
    "\n",
    "def update_score_2(state: MaxState) -> MaxState:\n",
    "    \"\"\"두 번째 점수 업데이트\"\"\"\n",
    "    new_score = 85\n",
    "    print(f\"노드2: {new_score}점 업데이트 시도\")\n",
    "    return {\n",
    "        \"highest_score\": new_score,  # max_reducer가 적용됨\n",
    "        \"current_score\": new_score   # 단순 덮어쓰기\n",
    "    }\n",
    "\n",
    "# 그래프 생성\n",
    "builder = StateGraph(MaxState)\n",
    "builder.add_node(\"score_update_1\", update_score_1)\n",
    "builder.add_node(\"score_update_2\", update_score_2)\n",
    "\n",
    "# 순차 실행\n",
    "builder.add_edge(START, \"score_update_1\")\n",
    "builder.add_edge(\"score_update_1\", \"score_update_2\")\n",
    "builder.add_edge(\"score_update_2\", END)\n",
    "\n",
    "score_graph = builder.compile()\n",
    "\n",
    "# 실행 테스트\n",
    "initial_state = {\n",
    "    \"highest_score\": 90,  # 초기 최고 점수\n",
    "    \"current_score\": 90   # 초기 현재 점수\n",
    "}\n",
    "\n",
    "print(\"=== max_reducer 커스텀 리듀서 그래프 실행 ===\")\n",
    "print(f\"초기 상태: {initial_state}\")\n",
    "\n",
    "result = score_graph.invoke(initial_state)\n",
    "\n",
    "print(f\"\\n최종 결과:\")\n",
    "print(f\"highest_score: {result['highest_score']} (max_reducer 적용)\")\n",
    "print(f\"current_score: {result['current_score']} (덮어쓰기)\")\n"
   ]
  },
  {
   "cell_type": "markdown",
   "id": "67acccff",
   "metadata": {},
   "source": [
    "# 리듀서를 사용하지 않으면 에러나는 경우 \n",
    "- 2개 이상의 병렬 노드에서 동시에 하나의 상태값을 업데이트 할 때 리듀서를 적용하지 않으면 에러\n",
    "- LangGraph에서 정의하고 있는 병합 규칙사용해야 한다."
   ]
  },
  {
   "cell_type": "code",
   "execution_count": null,
   "id": "dfded234",
   "metadata": {},
   "outputs": [],
   "source": [
    "# 쿼리 재작성 예제 - 병렬 노드 구조\n",
    "\n",
    "from typing import Annotated, Any\n",
    "from typing_extensions import TypedDict\n",
    "from langgraph.graph import StateGraph, START, END\n",
    "from langgraph.graph.message import add_messages\n",
    "\n",
    "\n",
    "# 상태 정의 - 쿼리와 재작성된 결과들을 저장\n",
    "class QueryState(TypedDict):\n",
    "    original_query: str\n",
    "    rewritten_queries: Annotated[list, add_messages]\n",
    "    # rewritten_queries: list\n",
    "    final_result: str\n",
    "\n",
    "\n",
    "# 노드 1\n",
    "def formal_rewriter(state: QueryState) -> dict:\n",
    "    \"\"\"  공식적인 톤으로 쿼리 재작성 하는 노드 \"\"\" \n",
    "    original = state[\"original_query\"]\n",
    "    formal_version = f\"[공식] {original}에 대해 상세히 설명해주세요.\"\n",
    "    print(f\"공식적 재작성: {formal_version}\")\n",
    "\n",
    "    return {\"rewritten_queries\": [formal_version]}\n",
    "\n",
    "\n",
    "# 노드 2\n",
    "def casual_rewriter(state: QueryState) -> dict:\n",
    "    \"\"\" 친근한 톤으로 쿼리 재작성 하는 노드 \"\"\" \n",
    "    original = state[\"original_query\"]\n",
    "    casual_version = f\"[친근] {original}이 뭔지 쉽게 알려줘!\"\n",
    "    print(f\"친근한 재작성: {casual_version}\")\n",
    "\n",
    "    return {\"rewritten_queries\": [casual_version]}\n",
    "\n",
    "\n",
    "# 노드 3\n",
    "def result_combiner(state: QueryState) -> dict:\n",
    "    \"\"\" 두 재작성 결과를 통합하는 노드 \"\"\" \n",
    "    queries = state[\"rewritten_queries\"]\n",
    "    combined = f\"원본: {state['original_query']}\\n재작성 결과:\\n{queries}\"\n",
    "    print(f\"통합 결과:\\n{combined}\")\n",
    "\n",
    "    return {\"final_result\": combined}\n",
    "\n",
    "\n",
    "# 상태 그래프 초기화\n",
    "builder = StateGraph(QueryState)\n",
    "\n",
    "# 노드 추가\n",
    "builder.add_node(\"formal_rewriter\", formal_rewriter)\n",
    "builder.add_node(\"casual_rewriter\", casual_rewriter) \n",
    "builder.add_node(\"result_combiner\", result_combiner)\n",
    "\n",
    "# 그래프 연결 - 병렬 실행 후 통합\n",
    "builder.add_edge(START, \"formal_rewriter\")\n",
    "builder.add_edge(START, \"casual_rewriter\")\n",
    "builder.add_edge([\"formal_rewriter\", \"casual_rewriter\"], \"result_combiner\")\n",
    "builder.add_edge(\"result_combiner\", END)\n",
    "\n",
    "# 그래프 컴파일\n",
    "query_rewriter_graph = builder.compile()\n"
   ]
  },
  {
   "cell_type": "code",
   "execution_count": 69,
   "id": "99858952",
   "metadata": {},
   "outputs": [
    {
     "data": {
      "image/png": "[encoded data removed]",
      "text/plain": [
       "<IPython.core.display.Image object>"
      ]
     },
     "metadata": {},
     "output_type": "display_data"
    }
   ],
   "source": [
    "from IPython.display import Image, display\n",
    "\n",
    "display(Image(query_rewriter_graph.get_graph().draw_mermaid_png()))"
   ]
  },
  {
   "cell_type": "code",
   "execution_count": 70,
   "id": "a0b2be38",
   "metadata": {},
   "outputs": [
    {
     "name": "stdout",
     "output_type": "stream",
     "text": [
      "=== 쿼리 재작성 그래프 실행 ===\n",
      "친근한 재작성: [친근] 파이썬이 뭐야?이 뭔지 쉽게 알려줘!\n",
      "공식적 재작성: [공식] 파이썬이 뭐야?에 대해 상세히 설명해주세요.\n",
      "통합 결과:\n",
      "원본: 파이썬이 뭐야?\n",
      "재작성 결과:\n",
      "['[친근] 파이썬이 뭐야?이 뭔지 쉽게 알려줘!']\n",
      "\n",
      "=== 최종 결과 ===\n",
      "원본: 파이썬이 뭐야?\n",
      "재작성 결과:\n",
      "['[친근] 파이썬이 뭐야?이 뭔지 쉽게 알려줘!']\n"
     ]
    }
   ],
   "source": [
    "# 그래프 실행 테스트\n",
    "initial_state = {\n",
    "    \"original_query\": \"파이썬이 뭐야?\",\n",
    "    \"rewritten_queries\": [],\n",
    "    \"final_result\": \"\"\n",
    "}\n",
    "\n",
    "print(\"=== 쿼리 재작성 그래프 실행 ===\")\n",
    "result = query_rewriter_graph.invoke(initial_state)\n",
    "\n",
    "print(\"\\n=== 최종 결과 ===\")\n",
    "print(result[\"final_result\"])\n"
   ]
  },
  {
   "cell_type": "markdown",
   "id": "22d59cb7",
   "metadata": {},
   "source": [
    "# 스레드간 영속성\n",
    "- 공원나연 강의에서 한 스레드(thread_id) 내 에서는 이전 대화를 기억해 멀티턴이 가능하다고 언급, 특정 스레드 간에 대화 내용을 기억할 수는 없을까?\n",
    "- 공유 메모리(store) 활용하여 여러 스레드 간 기억을 저장할 수 있다.\n",
    "- 예를 들어, 사용자의 이름이나 선호도와 같은 정보를 공유 메모리에 저장하고 새로운 대화 스레드에서 재사용할 수 있다.\n",
    "\n",
    "\n",
    "- Store 인터페이스를 사용하여 객체를 저장할 때 두 가지를 정의해야 한다.\n",
    "1. 객체의 네임스페이스, 튜플(디렉토리와 유사)\n",
    "2. 객체 키(파일명과 유사)\n",
    "\n",
    "* 주의: 프로세스를 중단하면 Store 내 모든 정보 삭제됨, 기억을 유지하기 위해서는 postgreStore 사용 가능(https://langchain-ai.github.io/langgraph/how-tos/memory/add-memory/#use-in-subgraphs)\n",
    "\n",
    "*출처: https://rudaks.tistory.com/entry/langgraph-그래프에-여러-스레드-간-영속성을-추가하는-방법#google_vignette*\n",
    "\n"
   ]
  },
  {
   "cell_type": "code",
   "execution_count": null,
   "id": "c76aa349",
   "metadata": {},
   "outputs": [],
   "source": [
    "from dotenv import load_dotenv\n",
    "from langchain_openai import ChatOpenAI\n",
    "from langgraph.store.memory import InMemoryStore\n",
    "\n",
    "import uuid\n",
    "from typing import Annotated\n",
    "from typing_extensions import TypedDict\n",
    "\n",
    "from langchain_core.runnables import RunnableConfig\n",
    "from langgraph.graph import StateGraph, MessagesState, START\n",
    "from langgraph.checkpoint.memory import MemorySaver\n",
    "from langgraph.store.base import BaseStore\n",
    "\n",
    "load_dotenv(override=True)\n",
    "\n",
    "in_memory_store = InMemoryStore()\n",
    "\n",
    "model = ChatOpenAI(model=\"gpt-4o-mini\")\n",
    "\n",
    "# 참고: 노드에 Store 매개변수를 전달한다.\n",
    "# 이는 그래프를 컴파일할 때 사용하는 Store이다.\n",
    "def call_model(state: MessagesState, config: RunnableConfig, *, store: BaseStore):\n",
    "    # 본 예제에서는 네임스페이스로 (\"memories\", <user_id>)를 사용하고, 각 새로운 메모리에 대해 랜덤 UUID를 키로 사용한다.\n",
    "    user_id = config[\"configurable\"][\"user_id\"]      # 유저 아이디\n",
    "    namespace = (\"memories\", user_id)                # 네임스페이스 (유저 아이디 포함)\n",
    "\n",
    "    # 사용자가 모델에게 기억하라고 요청하면 새로운 기억을 저장한다.\n",
    "    last_message = state[\"messages\"][-1]\n",
    "    if \"기억해\" in last_message.content.lower():\n",
    "        memory = last_message.content\n",
    "        store.put(namespace, str(uuid.uuid4()), {\"data\": memory})\n",
    "\n",
    "    # 네임 스페이스 사용하여 기억 검색\n",
    "    memories = store.search(namespace)     \n",
    "    # 기억 정보 조합\n",
    "    info = \"\\n\".join([d.value[\"data\"] for d in memories])  \n",
    "    system_msg = f\"You are a helpful assistant talking to the user. User info: {info}\"\n",
    "\n",
    "    response = model.invoke(\n",
    "        [{\"type\": \"system\", \"content\": system_msg}] + state[\"messages\"]\n",
    "    )\n",
    "    return {\"messages\": response}\n",
    "\n",
    "\n",
    "builder = StateGraph(MessagesState)\n",
    "builder.add_node(\"call_model\", call_model)\n",
    "builder.add_edge(START, \"call_model\")\n",
    "\n",
    "# 참고: 그래프를 컴파일할 때 Store 객체를 전달한다.\n",
    "graph = builder.compile(checkpointer=MemorySaver(), store=in_memory_store)\n"
   ]
  },
  {
   "cell_type": "markdown",
   "id": "3ba7260f",
   "metadata": {},
   "source": [
    "## 그래프 실행"
   ]
  },
  {
   "cell_type": "code",
   "execution_count": 59,
   "id": "dbefe3d9",
   "metadata": {},
   "outputs": [
    {
     "name": "stdout",
     "output_type": "stream",
     "text": [
      "================================\u001b[1m Human Message \u001b[0m=================================\n",
      "\n",
      "안녕. 기억해. 이름은 홍길동 나이는 30살\n",
      "==================================\u001b[1m Ai Message \u001b[0m==================================\n",
      "\n",
      "안녕하세요, 홍길동님! 만나서 반갑습니다. 도움이 필요하신 부분이나 궁금한 점이 있으신가요?\n"
     ]
    }
   ],
   "source": [
    "config = {\"configurable\": {\"thread_id\": \"1\", \"user_id\": \"1\"}}\n",
    "input_message = {\"type\": \"user\", \"content\": \"안녕. 기억해. 이름은 홍길동 나이는 30살\"}\n",
    "for chunk in graph.stream({\"messages\": [input_message]}, config, stream_mode=\"values\"):\n",
    "    chunk[\"messages\"][-1].pretty_print()\n",
    "\n",
    "\n"
   ]
  },
  {
   "cell_type": "code",
   "execution_count": 60,
   "id": "7ae73dce",
   "metadata": {},
   "outputs": [
    {
     "name": "stdout",
     "output_type": "stream",
     "text": [
      "================================\u001b[1m Human Message \u001b[0m=================================\n",
      "\n",
      "내 나이는?\n",
      "==================================\u001b[1m Ai Message \u001b[0m==================================\n",
      "\n",
      "당신의 나이는 30살입니다. 기억하고 있습니다!\n"
     ]
    }
   ],
   "source": [
    "config = {\"configurable\": {\"thread_id\": \"2\", \"user_id\": \"1\"}}\n",
    "input_message = {\"type\": \"user\", \"content\": \"내 나이는?\"}\n",
    "for chunk in graph.stream({\"messages\": [input_message]}, config, stream_mode=\"values\"):\n",
    "    chunk[\"messages\"][-1].pretty_print()"
   ]
  },
  {
   "cell_type": "code",
   "execution_count": 61,
   "id": "83b0dd1e",
   "metadata": {},
   "outputs": [
    {
     "name": "stdout",
     "output_type": "stream",
     "text": [
      "{'data': '안녕. 기억해. 이름은 홍길동 나이는 30살'}\n"
     ]
    }
   ],
   "source": [
    "for memory in in_memory_store.search((\"memories\", \"1\")):\n",
    "    print(memory.value)\n"
   ]
  },
  {
   "cell_type": "code",
   "execution_count": 64,
   "id": "062aa64d",
   "metadata": {},
   "outputs": [
    {
     "name": "stdout",
     "output_type": "stream",
     "text": [
      "================================\u001b[1m Human Message \u001b[0m=================================\n",
      "\n",
      "내 나이가 몇살이야?\n",
      "==================================\u001b[1m Ai Message \u001b[0m==================================\n",
      "\n",
      "죄송하지만, 당신의 나이를 알 수 있는 정보가 없어요. 태어난 연도를 알려주시면 나이를 계산해드릴 수 있어요!\n"
     ]
    }
   ],
   "source": [
    "config = {\"configurable\": {\"thread_id\": \"3\", \"user_id\": \"2\"}}\n",
    "input_message = {\"type\": \"user\", \"content\": \"내 나이가 몇살이야?\"}\n",
    "for chunk in graph.stream({\"messages\": [input_message]}, config, stream_mode=\"values\"):\n",
    "    chunk[\"messages\"][-1].pretty_print()\n"
   ]
  }
 ],
 "metadata": {
  "kernelspec": {
   "display_name": "agent-study",
   "language": "python",
   "name": "python3"
  },
  "language_info": {
   "codemirror_mode": {
    "name": "ipython",
    "version": 3
   },
   "file_extension": ".py",
   "mimetype": "text/x-python",
   "name": "python",
   "nbconvert_exporter": "python",
   "pygments_lexer": "ipython3",
   "version": "3.11.13"
  }
 },
 "nbformat": 4,
 "nbformat_minor": 5
}
