{
 "cells": [
  {
   "cell_type": "code",
   "execution_count": 6,
   "id": "2bd633d2",
   "metadata": {},
   "outputs": [],
   "source": [
    "import getpass, os\n",
    "\n",
    "def _set_env(var: str):\n",
    "    # if not os.environ.get(var):\n",
    "    os.environ[var] = getpass.getpass(f\"Enter {var}: \")\n",
    "\n",
    "_set_env(\"OPENAI_API_KEY\")"
   ]
  },
  {
   "cell_type": "markdown",
   "id": "2af18afb",
   "metadata": {},
   "source": [
    "# 데이터의 포맷에 생성되는 결과를 맞게 만들수 있음."
   ]
  },
  {
   "cell_type": "code",
   "execution_count": null,
   "id": "daaaae24",
   "metadata": {},
   "outputs": [
    {
     "data": {
      "text/plain": [
       "FinalResponse(final_response=MovieResponse(title='타이타닉', director='제임스 카메론', genre='드라마, 로맨스', release_year=1997))"
      ]
     },
     "execution_count": 25,
     "metadata": {},
     "output_type": "execute_result"
    }
   ],
   "source": [
    "from typing import Union\n",
    "from pydantic import BaseModel, Field\n",
    "from langchain_openai import ChatOpenAI\n",
    "\n",
    "class MovieResponse(BaseModel):\n",
    "    \"\"\"영화 정보를 담은 모델\"\"\"\n",
    "\n",
    "    title: str = Field(description=\"영화 제목\")\n",
    "    director: str = Field(description=\"영화 감독\")\n",
    "    genre: str = Field(description=\"영화 장르\")\n",
    "    release_year: int = Field(description=\"영화 개봉 연도\")\n",
    "\n",
    "class conversational_response(BaseModel):\n",
    "    \"\"\"일반 대화 응답을 담은 모델\"\"\"\n",
    "    response: str = Field(description=\" A conversational response to the user\")\n",
    "\n",
    "class FinalResponse(BaseModel):\n",
    "    \"\"\"최종 응답을 담은 모델 - 영화 정보 또는 일반 대화\"\"\"\n",
    "    response_type: str = Field(description=\"응답 타입: 'movie' 또는 'conversation'\")\n",
    "    movie_info: MovieResponse = Field(default=None, description=\"영화 정보 (영화 질문일 때만)\")\n",
    "    conversation: conversational_response = Field(default=None, description=\"일반 대화 응답\")\n",
    "\n",
    "model = ChatOpenAI(model=\"gpt-4o-mini\")\n",
    "\n",
    "structured_llm = model.with_structured_output(FinalResponse)\n",
    "\n",
    "structured_llm.invoke(\"타이타닉 영화에 대해서 얄려주세요\")\n",
    "\n",
    "\n"
   ]
  },
  {
   "cell_type": "code",
   "execution_count": 20,
   "id": "e33ccabc",
   "metadata": {},
   "outputs": [],
   "source": [
    "model = ChatOpenAI(model=\"gpt-4o-mini\", temperature=0)\n",
    "# 모델이 사용자가 제공하는 스키마 형태로 만들어줌, 이건 openAI 에서 제공하는 API기능으로 구현하는 것임\n",
    "model_with_structured_output = model.with_structured_output(MovieResponse)\n"
   ]
  },
  {
   "cell_type": "code",
   "execution_count": 21,
   "id": "ed0e7c5b",
   "metadata": {},
   "outputs": [
    {
     "data": {
      "text/plain": [
       "MovieResponse(title='타이타닉', director='제임스 카메론', genre='드라마, 로맨스', release_year=1997)"
      ]
     },
     "execution_count": 21,
     "metadata": {},
     "output_type": "execute_result"
    }
   ],
   "source": [
    "model_with_structured_output.invoke(\"타이타닉 정보 알려줘알려줘\")"
   ]
  },
  {
   "cell_type": "code",
   "execution_count": 26,
   "id": "909b350e",
   "metadata": {},
   "outputs": [
    {
     "data": {
      "text/plain": [
       "FinalResponse(final_response=MovieResponse(title='타이타닉', director='제임스 카메론', genre='드라마, 로맨스', release_year=1997))"
      ]
     },
     "execution_count": 26,
     "metadata": {},
     "output_type": "execute_result"
    }
   ],
   "source": [
    "structured_llm.invoke(\"타이타닉 영화 정보\")\n"
   ]
  }
 ],
 "metadata": {
  "kernelspec": {
   "display_name": "agent-study",
   "language": "python",
   "name": "python3"
  },
  "language_info": {
   "codemirror_mode": {
    "name": "ipython",
    "version": 3
   },
   "file_extension": ".py",
   "mimetype": "text/x-python",
   "name": "python",
   "nbconvert_exporter": "python",
   "pygments_lexer": "ipython3",
   "version": "3.11.0"
  }
 },
 "nbformat": 4,
 "nbformat_minor": 5
}
